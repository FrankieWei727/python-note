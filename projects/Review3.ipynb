{
 "cells": [
  {
   "cell_type": "code",
   "execution_count": 14,
   "metadata": {},
   "outputs": [],
   "source": [
    "import pandas as pd\n",
    "import numpy as np\n",
    "from sklearn.tree import DecisionTreeClassifier\n",
    "from sklearn.externals import joblib\n"
   ]
  },
  {
   "cell_type": "code",
   "execution_count": 9,
   "metadata": {},
   "outputs": [
    {
     "data": {
      "text/plain": [
       "DecisionTreeClassifier(class_weight=None, criterion='gini', max_depth=None,\n",
       "            max_features=None, max_leaf_nodes=None,\n",
       "            min_impurity_decrease=0.0, min_impurity_split=None,\n",
       "            min_samples_leaf=1, min_samples_split=2,\n",
       "            min_weight_fraction_leaf=0.0, presort=False, random_state=None,\n",
       "            splitter='best')"
      ]
     },
     "execution_count": 9,
     "metadata": {},
     "output_type": "execute_result"
    }
   ],
   "source": [
    "# Index :\n",
    "# 0 - Extremely Weak\n",
    "# 1 - Weak\n",
    "# 2 - Normal\n",
    "# 3 - Overweight\n",
    "# 4 - Obesity\n",
    "# 5 - Extreme Obesity\n",
    "\n",
    "# body_data = pd.read_csv('body.csv')\n",
    "# body_data['Gender_index'] = np.where(body_data['Gender']=='Male','1','0')\n",
    "# x = body_data.drop(columns=['Gender','Weight','Index'])\n",
    "# y = body_data['Index']\n",
    "\n",
    "# create a model\n",
    "# model = DecisionTreeClassifier()\n",
    "\n",
    "# train the model\n",
    "# model.fit(x, y)"
   ]
  },
  {
   "cell_type": "code",
   "execution_count": 15,
   "metadata": {
    "scrolled": true
   },
   "outputs": [
    {
     "data": {
      "text/plain": [
       "array([5, 3])"
      ]
     },
     "execution_count": 15,
     "metadata": {},
     "output_type": "execute_result"
    }
   ],
   "source": [
    "# save training model\n",
    "# joblib.dump(model,'body-recommender.joblib')\n",
    "\n",
    "# load training model\n",
    "model = joblib.load('body-recommender.joblib')\n",
    "prediction = model.predict([[184,1],[149,0]])\n",
    "prediction"
   ]
  },
  {
   "cell_type": "code",
   "execution_count": null,
   "metadata": {},
   "outputs": [],
   "source": []
  }
 ],
 "metadata": {
  "kernelspec": {
   "display_name": "Python 3",
   "language": "python",
   "name": "python3"
  },
  "language_info": {
   "codemirror_mode": {
    "name": "ipython",
    "version": 3
   },
   "file_extension": ".py",
   "mimetype": "text/x-python",
   "name": "python",
   "nbconvert_exporter": "python",
   "pygments_lexer": "ipython3",
   "version": "3.7.3"
  }
 },
 "nbformat": 4,
 "nbformat_minor": 2
}
