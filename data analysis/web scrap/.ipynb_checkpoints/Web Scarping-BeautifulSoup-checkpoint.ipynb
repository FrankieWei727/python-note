{
 "cells": [
  {
   "cell_type": "code",
   "execution_count": 1,
   "metadata": {},
   "outputs": [],
   "source": [
    "from bs4 import BeautifulSoup\n",
    "from urllib.request import Request, urlopen\n",
    "import urllib.request"
   ]
  },
  {
   "cell_type": "code",
   "execution_count": 2,
   "metadata": {},
   "outputs": [],
   "source": [
    "# define the url we want to scrap \n",
    "\n",
    "wiki_url = r\"https://en.wikipedia.org/wiki/Python_(programming_language)\"\n",
    "response_object = urllib.request.urlopen(wiki_url)\n",
    "response_object\n",
    "\n",
    "\n",
    "#create the soup \n",
    "soup = BeautifulSoup(response_object,'html.parser')\n",
    "# display(soup)\n"
   ]
  },
  {
   "cell_type": "code",
   "execution_count": 3,
   "metadata": {},
   "outputs": [
    {
     "data": {
      "text/plain": [
       "<a href=\"/wiki/Wikipedia:Good_articles\" title=\"This is a good article. Follow the link for more information.\"><img alt=\"This is a good article. Follow the link for more information.\" data-file-height=\"185\" data-file-width=\"180\" decoding=\"async\" height=\"20\" src=\"//upload.wikimedia.org/wikipedia/en/thumb/9/94/Symbol_support_vote.svg/19px-Symbol_support_vote.svg.png\" srcset=\"//upload.wikimedia.org/wikipedia/en/thumb/9/94/Symbol_support_vote.svg/29px-Symbol_support_vote.svg.png 1.5x, //upload.wikimedia.org/wikipedia/en/thumb/9/94/Symbol_support_vote.svg/39px-Symbol_support_vote.svg.png 2x\" width=\"19\"/></a>"
      ]
     },
     "execution_count": 3,
     "metadata": {},
     "output_type": "execute_result"
    }
   ],
   "source": [
    "# find the first instance of an 'a' tag\n",
    "link = soup.find('a',href = True)\n",
    "link"
   ]
  },
  {
   "cell_type": "code",
   "execution_count": 4,
   "metadata": {},
   "outputs": [
    {
     "data": {
      "text/plain": [
       "bs4.element.Tag"
      ]
     },
     "metadata": {},
     "output_type": "display_data"
    },
    {
     "data": {
      "text/plain": [
       "'a'"
      ]
     },
     "metadata": {},
     "output_type": "display_data"
    },
    {
     "data": {
      "text/plain": [
       "{'href': '/wiki/Wikipedia:Good_articles',\n",
       " 'title': 'This is a good article. Follow the link for more information.'}"
      ]
     },
     "metadata": {},
     "output_type": "display_data"
    },
    {
     "data": {
      "text/plain": [
       "'/wiki/Wikipedia:Good_articles'"
      ]
     },
     "metadata": {},
     "output_type": "display_data"
    },
    {
     "data": {
      "text/plain": [
       "''"
      ]
     },
     "metadata": {},
     "output_type": "display_data"
    }
   ],
   "source": [
    "# what is the tpye \n",
    "display(type(link))\n",
    "\n",
    "# define the tpye name \n",
    "display(link.name)\n",
    "\n",
    "# get the dictionary of all the attributese\n",
    "display(link.attrs)\n",
    "\n",
    "# get the attribute values\n",
    "display(link['href'])\n",
    "\n",
    "# get the text\n",
    "display(link.text)"
   ]
  },
  {
   "cell_type": "code",
   "execution_count": 5,
   "metadata": {},
   "outputs": [
    {
     "data": {
      "text/plain": [
       "bs4.element.Tag"
      ]
     },
     "metadata": {},
     "output_type": "display_data"
    },
    {
     "data": {
      "text/plain": [
       "1591"
      ]
     },
     "execution_count": 5,
     "metadata": {},
     "output_type": "execute_result"
    }
   ],
   "source": [
    "# find all the 'a' tag on the document \n",
    "links = soup.find_all('a')\n",
    "\n",
    "# define the type \n",
    "display(type(link))\n",
    "        \n",
    "len(links)"
   ]
  },
  {
   "cell_type": "code",
   "execution_count": 6,
   "metadata": {},
   "outputs": [
    {
     "name": "stdout",
     "output_type": "stream",
     "text": [
      "/wiki/Wikipedia:Good_articles\n",
      "This is a good article. Follow the link for more information.\n",
      "#mw-head\n",
      "#p-search\n",
      "/wiki/Python_(disambiguation)\n",
      "Python (disambiguation)\n",
      "/wiki/File:Python_logo_and_wordmark.svg\n",
      "/wiki/Programming_paradigm\n",
      "Programming paradigm\n",
      "/wiki/Multi-paradigm_programming_language\n",
      "Multi-paradigm programming language\n",
      "/wiki/Functional_programming\n",
      "Functional programming\n",
      "/wiki/Imperative_programming\n",
      "Imperative programming\n",
      "/wiki/Object-oriented_programming\n",
      "Object-oriented programming\n"
     ]
    }
   ],
   "source": [
    "# find all the 'a' tag on the document \n",
    "links = soup.find_all('a', href = True)\n",
    "\n",
    "for link in links[0:10]:\n",
    "    print(link['href'])\n",
    "    try:\n",
    "        print(link['title'])\n",
    "    except:\n",
    "        continue"
   ]
  },
  {
   "cell_type": "code",
   "execution_count": 7,
   "metadata": {},
   "outputs": [],
   "source": [
    "# find all the tables and a tags\n",
    "tables_and_a = soup.find_all(['a','table'])\n",
    "\n",
    "table_headers = soup.find_all('th',style=True)\n",
    "\n",
    "wiki_tables = soup.find_all('table',class_='wikitable')\n",
    "\n",
    "# define a function to find the items\n",
    "def list_with_links(tag):\n",
    "    return tag.name == 'li' and len(tag.find_all('a'))>7\n",
    "\n",
    "# list a time with a tag\n",
    "list_with_a = soup.find_all(list_with_links)\n",
    "\n",
    "# display(list_with_a)"
   ]
  },
  {
   "cell_type": "code",
   "execution_count": 8,
   "metadata": {},
   "outputs": [
    {
     "name": "stdout",
     "output_type": "stream",
     "text": [
      "<html>\n",
      " <body>\n",
      "  <a>\n",
      "   <b>\n",
      "    text1\n",
      "   </b>\n",
      "   <c>\n",
      "    text2\n",
      "   </c>\n",
      "  </a>\n",
      " </body>\n",
      "</html>\n"
     ]
    }
   ],
   "source": [
    "# define a simple tree\n",
    "simple_tree = \"\"\"<html><body><a><b>text1</b><c>text2</c></a></body></html>\"\"\"\n",
    "\n",
    "# pass the simple tree into Parser to create a simple soup\n",
    "simple_soup = BeautifulSoup(simple_tree,'html.parser')\n",
    "\n",
    "print(simple_soup.prettify())\n"
   ]
  },
  {
   "cell_type": "code",
   "execution_count": 9,
   "metadata": {},
   "outputs": [
    {
     "data": {
      "text/plain": [
       "[<b>text1</b>, <c>text2</c>]"
      ]
     },
     "metadata": {},
     "output_type": "display_data"
    },
    {
     "data": {
      "text/plain": [
       "<b>text1</b>"
      ]
     },
     "metadata": {},
     "output_type": "display_data"
    },
    {
     "data": {
      "text/plain": [
       "2"
      ]
     },
     "metadata": {},
     "output_type": "display_data"
    },
    {
     "data": {
      "text/plain": [
       "4"
      ]
     },
     "metadata": {},
     "output_type": "display_data"
    }
   ],
   "source": [
    "# create a list of the children of a tag in the simple \n",
    "a_content = simple_soup.a.contents\n",
    "\n",
    "display(a_content)\n",
    "\n",
    "# the first child of a tag\n",
    "display(a_content[0])\n",
    "\n",
    "# count the number of elements of both the children and descendants\n",
    "display(len(list(simple_soup.a.children)))\n",
    "display(len(list(simple_soup.a.descendants)))"
   ]
  },
  {
   "cell_type": "code",
   "execution_count": 10,
   "metadata": {},
   "outputs": [
    {
     "data": {
      "text/plain": [
       "<body><a><b>text1</b><c>text2</c></a></body>"
      ]
     },
     "metadata": {},
     "output_type": "display_data"
    },
    {
     "name": "stdout",
     "output_type": "stream",
     "text": [
      "<body><a><b>text1</b><c>text2</c></a></body>\n",
      "<html><body><a><b>text1</b><c>text2</c></a></body></html>\n",
      "<html><body><a><b>text1</b><c>text2</c></a></body></html>\n"
     ]
    }
   ],
   "source": [
    "# get the parent of the a tag\n",
    "display(simple_soup.a.parent)\n",
    "\n",
    "# loop the parents of the a tag \n",
    "for parent in simple_soup.a.parents:\n",
    "    print(parent)"
   ]
  },
  {
   "cell_type": "code",
   "execution_count": 11,
   "metadata": {},
   "outputs": [
    {
     "data": {
      "text/plain": [
       "<b>text1</b>"
      ]
     },
     "metadata": {},
     "output_type": "display_data"
    },
    {
     "data": {
      "text/plain": [
       "<c>text2</c>"
      ]
     },
     "metadata": {},
     "output_type": "display_data"
    },
    {
     "data": {
      "text/plain": [
       "None"
      ]
     },
     "metadata": {},
     "output_type": "display_data"
    }
   ],
   "source": [
    "# display b tag\n",
    "display(simple_soup.b)\n",
    "\n",
    "# dose b has the sibling\n",
    "display(simple_soup.b.next_sibling)\n",
    "display(simple_soup.b.pervious_sibling)"
   ]
  },
  {
   "cell_type": "code",
   "execution_count": 12,
   "metadata": {},
   "outputs": [
    {
     "data": {
      "text/plain": [
       "<body><a><b>text1</b><c>text2</c></a></body>"
      ]
     },
     "metadata": {},
     "output_type": "display_data"
    },
    {
     "data": {
      "text/plain": [
       "<a><b>text1</b><c>text2</c></a>"
      ]
     },
     "metadata": {},
     "output_type": "display_data"
    }
   ],
   "source": [
    "# grab the body\n",
    "display(simple_soup.body)\n",
    "\n",
    "# go to the next element\n",
    "display(simple_soup.body.next_element)"
   ]
  },
  {
   "cell_type": "code",
   "execution_count": 13,
   "metadata": {},
   "outputs": [
    {
     "data": {
      "text/plain": [
       "<tbody><tr><th class=\"navbox-title\" colspan=\"2\" scope=\"col\"><div class=\"plainlinks hlist navbar mini\"><ul><li class=\"nv-view\"><a href=\"/wiki/Template:FOSS\" title=\"Template:FOSS\"><abbr style=\";;background:none transparent;border:none;-moz-box-shadow:none;-webkit-box-shadow:none;box-shadow:none; padding:0;\" title=\"View this template\">v</abbr></a></li><li class=\"nv-talk\"><a href=\"/wiki/Template_talk:FOSS\" title=\"Template talk:FOSS\"><abbr style=\";;background:none transparent;border:none;-moz-box-shadow:none;-webkit-box-shadow:none;box-shadow:none; padding:0;\" title=\"Discuss this template\">t</abbr></a></li><li class=\"nv-edit\"><a class=\"external text\" href=\"https://en.wikipedia.org/w/index.php?title=Template:FOSS&amp;action=edit\"><abbr style=\";;background:none transparent;border:none;-moz-box-shadow:none;-webkit-box-shadow:none;box-shadow:none; padding:0;\" title=\"Edit this template\">e</abbr></a></li></ul></div><div id=\"Free_and_open-source_software\" style=\"font-size:114%;margin:0 4em\"><a href=\"/wiki/Free_and_open-source_software\" title=\"Free and open-source software\">Free and open-source software</a></div></th></tr><tr><th class=\"navbox-group\" scope=\"row\" style=\"width:1%\">General</th><td class=\"navbox-list navbox-odd\" style=\"text-align:left;border-left-width:2px;border-left-style:solid;width:100%;padding:0px\"><div style=\"padding:0em 0.25em\">\n",
       "<ul><li><a href=\"/wiki/Alternative_terms_for_free_software\" title=\"Alternative terms for free software\">Alternative terms for free software</a></li>\n",
       "<li><a href=\"/wiki/Comparison_of_open-source_and_closed-source_software\" title=\"Comparison of open-source and closed-source software\">Comparison of open-source and closed-source software</a></li>\n",
       "<li><a href=\"/wiki/Comparison_of_source-code-hosting_facilities\" title=\"Comparison of source-code-hosting facilities\">Comparison of source-code-hosting facilities</a></li>\n",
       "<li><a href=\"/wiki/Free_software\" title=\"Free software\">Free software</a></li>\n",
       "<li><a href=\"/wiki/List_of_free_software_project_directories\" title=\"List of free software project directories\">Free software project directories</a></li>\n",
       "<li><a href=\"/wiki/Gratis_versus_libre\" title=\"Gratis versus libre\">Gratis versus libre</a></li>\n",
       "<li><a href=\"/wiki/Long-term_support\" title=\"Long-term support\">Long-term support</a></li>\n",
       "<li><a href=\"/wiki/Open-source_software\" title=\"Open-source software\">Open-source software</a></li>\n",
       "<li><a href=\"/wiki/Open-source_software_development\" title=\"Open-source software development\">Open-source software development</a></li>\n",
       "<li><a href=\"/wiki/Outline_of_free_software\" title=\"Outline of free software\">Outline</a></li></ul>\n",
       "</div></td></tr><tr><th class=\"navbox-group\" scope=\"row\" style=\"width:1%\"><a href=\"/wiki/List_of_free_and_open-source_software_packages\" title=\"List of free and open-source software packages\">Software<br/>packages</a></th><td class=\"navbox-list navbox-even\" style=\"text-align:left;border-left-width:2px;border-left-style:solid;width:100%;padding:0px\"><div style=\"padding:0em 0.25em\">\n",
       "<ul><li><a href=\"/wiki/Comparison_of_free_software_for_audio\" title=\"Comparison of free software for audio\">Audio</a></li>\n",
       "<li><a href=\"/wiki/List_of_open-source_bioinformatics_software\" title=\"List of open-source bioinformatics software\">Bioinformatics</a></li>\n",
       "<li><a href=\"/wiki/List_of_open-source_codecs\" title=\"List of open-source codecs\">Codecs</a></li>\n",
       "<li><a href=\"/wiki/List_of_collaborative_software#Open_source_software\" title=\"List of collaborative software\">Collaboration</a></li>\n",
       "<li><a href=\"/wiki/Comparison_of_open-source_configuration_management_software\" title=\"Comparison of open-source configuration management software\">Configuration management</a></li>\n",
       "<li><a href=\"/wiki/Device_driver#Open_drivers\" title=\"Device driver\">Device drivers</a>\n",
       "<ul><li><a href=\"/wiki/Free_and_open-source_graphics_device_driver\" title=\"Free and open-source graphics device driver\">Graphics</a></li>\n",
       "<li><a href=\"/wiki/Comparison_of_open-source_wireless_drivers\" title=\"Comparison of open-source wireless drivers\">Wireless</a></li></ul></li>\n",
       "<li><a href=\"/wiki/Comparison_of_free_geophysics_software\" title=\"Comparison of free geophysics software\">Geophysics</a></li>\n",
       "<li><a href=\"/wiki/List_of_open-source_health_software\" title=\"List of open-source health software\">Health</a></li>\n",
       "<li><a href=\"/wiki/List_of_open-source_software_for_mathematics\" title=\"List of open-source software for mathematics\">Mathematics</a></li>\n",
       "<li><a href=\"/wiki/Comparison_of_open-source_operating_systems\" title=\"Comparison of open-source operating systems\">Operating systems</a></li>\n",
       "<li><a href=\"/wiki/Comparison_of_open-source_programming_language_licensing\" title=\"Comparison of open-source programming language licensing\">Programming languages</a></li>\n",
       "<li><a href=\"/wiki/List_of_open-source_routing_platforms\" title=\"List of open-source routing platforms\">Routing</a></li>\n",
       "<li><a class=\"mw-redirect\" href=\"/wiki/List_of_statistical_packages#Open-source_statistical_packages\" title=\"List of statistical packages\">Statistics</a></li>\n",
       "<li><a href=\"/wiki/List_of_free_television_software\" title=\"List of free television software\">Television</a></li>\n",
       "<li><a href=\"/wiki/List_of_open-source_video_games\" title=\"List of open-source video games\">Video games</a></li>\n",
       "<li><a href=\"/wiki/List_of_free_and_open-source_web_applications\" title=\"List of free and open-source web applications\">Web applications</a>\n",
       "<ul><li><a href=\"/wiki/List_of_content_management_systems#Open_source_software\" title=\"List of content management systems\">Content management systems</a></li>\n",
       "<li><a href=\"/wiki/Comparison_of_shopping_cart_software\" title=\"Comparison of shopping cart software\">E-commerce</a></li></ul></li>\n",
       "<li><a href=\"/wiki/List_of_word_processors#Free_and_open-source_software\" title=\"List of word processors\">Word processors</a></li>\n",
       "<li><a href=\"/wiki/List_of_free_and_open-source_Android_applications\" title=\"List of free and open-source Android applications\">Android apps</a></li>\n",
       "<li><a href=\"/wiki/List_of_free_and_open-source_iOS_applications\" title=\"List of free and open-source iOS applications\">iOS apps</a></li>\n",
       "<li><a href=\"/wiki/List_of_commercial_open-source_applications_and_services\" title=\"List of commercial open-source applications and services\">Commercial</a></li>\n",
       "<li><a href=\"/wiki/List_of_trademarked_open-source_software\" title=\"List of trademarked open-source software\">Trademarked</a></li>\n",
       "<li><a href=\"/wiki/List_of_formerly_proprietary_software\" title=\"List of formerly proprietary software\">Formerly proprietary</a></li></ul>\n",
       "</div></td></tr><tr><th class=\"navbox-group\" scope=\"row\" style=\"width:1%\"><a href=\"/wiki/Community_of_practice\" title=\"Community of practice\">Community</a></th><td class=\"navbox-list navbox-odd\" style=\"text-align:left;border-left-width:2px;border-left-style:solid;width:100%;padding:0px\"><div style=\"padding:0em 0.25em\">\n",
       "<ul><li><a href=\"/wiki/Free_software_movement\" title=\"Free software movement\">Free software movement</a></li>\n",
       "<li><a href=\"/wiki/History_of_free_and_open-source_software\" title=\"History of free and open-source software\">History</a></li>\n",
       "<li><a href=\"/wiki/Open-source-software_movement\" title=\"Open-source-software movement\">Open-source-software movement</a></li>\n",
       "<li><a href=\"/wiki/List_of_free_and_open-source_software_organizations\" title=\"List of free and open-source software organizations\">Organizations</a></li>\n",
       "<li><a href=\"/wiki/List_of_free-software_events\" title=\"List of free-software events\">Events</a></li></ul>\n",
       "</div></td></tr><tr><th class=\"navbox-group\" scope=\"row\" style=\"width:1%\"><a href=\"/wiki/Free_software_license\" title=\"Free software license\">Licenses</a></th><td class=\"navbox-list navbox-even\" style=\"text-align:left;border-left-width:2px;border-left-style:solid;width:100%;padding:0px\"><div style=\"padding:0em 0.25em\">\n",
       "<ul><li><a href=\"/wiki/Academic_Free_License\" title=\"Academic Free License\">AFL</a></li>\n",
       "<li><a href=\"/wiki/Apache_License\" title=\"Apache License\">Apache</a></li>\n",
       "<li><a href=\"/wiki/Apple_Public_Source_License\" title=\"Apple Public Source License\">APSL</a></li>\n",
       "<li><a href=\"/wiki/Artistic_License\" title=\"Artistic License\">Artistic</a></li>\n",
       "<li><a href=\"/wiki/Beerware\" title=\"Beerware\">Beerware</a></li>\n",
       "<li><a class=\"mw-redirect\" href=\"/wiki/Boost_Software_License\" title=\"Boost Software License\">Boost</a></li>\n",
       "<li><a href=\"/wiki/BSD_licenses\" title=\"BSD licenses\">BSD</a></li>\n",
       "<li><a href=\"/wiki/Creative_Commons_license#Zero_/_public_domain\" title=\"Creative Commons license\">CC0</a></li>\n",
       "<li><a href=\"/wiki/Common_Development_and_Distribution_License\" title=\"Common Development and Distribution License\">CDDL</a></li>\n",
       "<li><a href=\"/wiki/Eclipse_Public_License\" title=\"Eclipse Public License\">EPL</a></li>\n",
       "<li><a href=\"/wiki/Free_Software_Foundation\" title=\"Free Software Foundation\">Free Software Foundation</a>\n",
       "<ul><li><a href=\"/wiki/GNU_General_Public_License\" title=\"GNU General Public License\">GNU GPL</a></li>\n",
       "<li><a href=\"/wiki/GNU_Lesser_General_Public_License\" title=\"GNU Lesser General Public License\">GNU LGPL</a></li></ul></li>\n",
       "<li><a href=\"/wiki/ISC_license\" title=\"ISC license\">ISC</a></li>\n",
       "<li><a href=\"/wiki/MIT_License\" title=\"MIT License\">MIT</a></li>\n",
       "<li><a href=\"/wiki/Mozilla_Public_License\" title=\"Mozilla Public License\">MPL</a></li>\n",
       "<li><a class=\"mw-redirect\" href=\"/wiki/Microsoft_Public_License\" title=\"Microsoft Public License\">Ms-PL</a>/<a class=\"mw-redirect\" href=\"/wiki/Microsoft_Reciprocal_License\" title=\"Microsoft Reciprocal License\">RL</a></li>\n",
       "<li><a href=\"/wiki/Python_License\" title=\"Python License\">Python</a></li>\n",
       "<li><a href=\"/wiki/Python_Software_Foundation_License\" title=\"Python Software Foundation License\">Python Software Foundation License</a></li>\n",
       "<li><a href=\"/wiki/Sleepycat_License\" title=\"Sleepycat License\">Sleepycat</a></li>\n",
       "<li><a href=\"/wiki/Unlicense\" title=\"Unlicense\">Unlicense</a></li>\n",
       "<li><a href=\"/wiki/WTFPL\" title=\"WTFPL\">WTFPL</a></li>\n",
       "<li><a href=\"/wiki/Zlib_License\" title=\"Zlib License\">zlib</a></li></ul>\n",
       "</div><table class=\"nowraplinks navbox-subgroup\" style=\"border-spacing:0\"><tbody><tr><th class=\"navbox-group\" id=\"Types_and_standards\" scope=\"row\" style=\"width:1%\">Types and<br/> standards</th><td class=\"navbox-list navbox-odd\" style=\"text-align:left;border-left-width:2px;border-left-style:solid;width:100%;padding:0px\"><div style=\"padding:0em 0.25em\">\n",
       "<ul><li><a href=\"/wiki/Comparison_of_free_and_open-source_software_licenses\" title=\"Comparison of free and open-source software licenses\">Comparison of free and open-source software licenses</a></li>\n",
       "<li><a href=\"/wiki/Contributor_License_Agreement\" title=\"Contributor License Agreement\">Contributor License Agreement</a></li>\n",
       "<li><a href=\"/wiki/Copyleft\" title=\"Copyleft\">Copyleft</a></li>\n",
       "<li><a href=\"/wiki/Debian_Free_Software_Guidelines\" title=\"Debian Free Software Guidelines\">Debian Free Software Guidelines</a></li>\n",
       "<li><a href=\"/wiki/Definition_of_Free_Cultural_Works\" title=\"Definition of Free Cultural Works\">Definition of Free Cultural Works</a></li>\n",
       "<li><a href=\"/wiki/Free_license\" title=\"Free license\">Free license</a></li>\n",
       "<li><a href=\"/wiki/The_Free_Software_Definition\" title=\"The Free Software Definition\">The Free Software Definition</a></li>\n",
       "<li><a href=\"/wiki/The_Open_Source_Definition\" title=\"The Open Source Definition\">The Open Source Definition</a></li>\n",
       "<li><a href=\"/wiki/Open-source_license\" title=\"Open-source license\">Open-source license</a></li>\n",
       "<li><a href=\"/wiki/Permissive_software_license\" title=\"Permissive software license\">Permissive software license</a></li>\n",
       "<li><a href=\"/wiki/Public_domain\" title=\"Public domain\">Public domain</a></li>\n",
       "<li><a href=\"/wiki/Viral_license\" title=\"Viral license\">Viral license</a></li></ul>\n",
       "</div></td></tr></tbody></table><div>\n",
       "</div></td></tr><tr><th class=\"navbox-group\" scope=\"row\" style=\"width:1%\">Challenges</th><td class=\"navbox-list navbox-even\" style=\"text-align:left;border-left-width:2px;border-left-style:solid;width:100%;padding:0px\"><div style=\"padding:0em 0.25em\">\n",
       "<ul><li><a href=\"/wiki/Digital_rights_management\" title=\"Digital rights management\">Digital rights management</a></li>\n",
       "<li><a href=\"/wiki/Firmware#Security_risks\" title=\"Firmware\">Firmware security</a></li>\n",
       "<li><a href=\"/wiki/Hardware_restriction\" title=\"Hardware restriction\">Hardware restrictions</a></li>\n",
       "<li><a href=\"/wiki/License_proliferation\" title=\"License proliferation\">License proliferation</a></li>\n",
       "<li><a href=\"/wiki/Mozilla_software_rebranded_by_Debian\" title=\"Mozilla software rebranded by Debian\">Mozilla software rebranding</a></li>\n",
       "<li><a href=\"/wiki/Proprietary_device_driver\" title=\"Proprietary device driver\">Proprietary device drivers</a></li>\n",
       "<li><a href=\"/wiki/Proprietary_firmware\" title=\"Proprietary firmware\">Proprietary firmware</a></li>\n",
       "<li><a href=\"/wiki/Proprietary_software\" title=\"Proprietary software\">Proprietary software</a></li>\n",
       "<li><a href=\"/wiki/SCO%E2%80%93Linux_disputes\" title=\"SCO–Linux disputes\">SCO/Linux controversies</a></li>\n",
       "<li><a href=\"/wiki/Unified_Extensible_Firmware_Interface#Secure_boot\" title=\"Unified Extensible Firmware Interface\">Secure boot</a></li>\n",
       "<li><a href=\"/wiki/Software_patents_and_free_software\" title=\"Software patents and free software\">Software patents</a></li>\n",
       "<li><a href=\"/wiki/Open-source_software_security\" title=\"Open-source software security\">Software security</a></li>\n",
       "<li><a href=\"/wiki/Trusted_Computing\" title=\"Trusted Computing\">Trusted Computing</a></li></ul>\n",
       "</div></td></tr><tr><th class=\"navbox-group\" scope=\"row\" style=\"width:1%\">Related topics</th><td class=\"navbox-list navbox-odd\" style=\"text-align:left;border-left-width:2px;border-left-style:solid;width:100%;padding:0px\"><div style=\"padding:0em 0.25em\">\n",
       "<ul><li><a href=\"/wiki/Fork_(software_development)\" title=\"Fork (software development)\">Forking</a></li>\n",
       "<li><i><a href=\"/wiki/GNU_Manifesto\" title=\"GNU Manifesto\">GNU Manifesto</a></i></li>\n",
       "<li><a href=\"/wiki/Microsoft_Open_Specification_Promise\" title=\"Microsoft Open Specification Promise\">Microsoft Open Specification Promise</a></li>\n",
       "<li><a href=\"/wiki/Open-core_model\" title=\"Open-core model\">Open-core model</a></li>\n",
       "<li><a href=\"/wiki/Open-source_hardware\" title=\"Open-source hardware\">Open-source hardware</a></li>\n",
       "<li><a href=\"/wiki/Shared_Source_Initiative\" title=\"Shared Source Initiative\">Shared Source Initiative</a></li>\n",
       "<li><a href=\"/wiki/Source-available_software\" title=\"Source-available software\">Source-available software</a></li>\n",
       "<li><i><a href=\"/wiki/The_Cathedral_and_the_Bazaar\" title=\"The Cathedral and the Bazaar\">The Cathedral and the Bazaar</a></i></li>\n",
       "<li><i><a href=\"/wiki/Revolution_OS\" title=\"Revolution OS\">Revolution OS</a></i></li></ul>\n",
       "</div></td></tr><tr><td class=\"navbox-abovebelow\" colspan=\"2\" style=\"font-weight:bold\"><div>\n",
       "<ul><li><a class=\"image\" href=\"/wiki/File:Free_and_open-source_software_logo_(2009).svg\"><img alt=\"Free and open-source software logo (2009).svg\" class=\"noviewer\" data-file-height=\"512\" data-file-width=\"512\" decoding=\"async\" height=\"28\" src=\"//upload.wikimedia.org/wikipedia/commons/thumb/3/31/Free_and_open-source_software_logo_%282009%29.svg/28px-Free_and_open-source_software_logo_%282009%29.svg.png\" srcset=\"//upload.wikimedia.org/wikipedia/commons/thumb/3/31/Free_and_open-source_software_logo_%282009%29.svg/42px-Free_and_open-source_software_logo_%282009%29.svg.png 1.5x, //upload.wikimedia.org/wikipedia/commons/thumb/3/31/Free_and_open-source_software_logo_%282009%29.svg/56px-Free_and_open-source_software_logo_%282009%29.svg.png 2x\" width=\"28\"/></a> <a href=\"/wiki/Portal:Free_and_open-source_software\" title=\"Portal:Free and open-source software\">Free and open-source software portal</a></li>\n",
       "<li><img alt=\"Category\" data-file-height=\"31\" data-file-width=\"36\" decoding=\"async\" height=\"14\" src=\"//upload.wikimedia.org/wikipedia/en/thumb/4/48/Folder_Hexagonal_Icon.svg/16px-Folder_Hexagonal_Icon.svg.png\" srcset=\"//upload.wikimedia.org/wikipedia/en/thumb/4/48/Folder_Hexagonal_Icon.svg/24px-Folder_Hexagonal_Icon.svg.png 1.5x, //upload.wikimedia.org/wikipedia/en/thumb/4/48/Folder_Hexagonal_Icon.svg/32px-Folder_Hexagonal_Icon.svg.png 2x\" title=\"Category\" width=\"16\"/> <a href=\"/wiki/Category:Free_software\" title=\"Category:Free software\">Category</a></li>\n",
       "<li><img alt=\"Commons page\" data-file-height=\"1376\" data-file-width=\"1024\" decoding=\"async\" height=\"16\" src=\"//upload.wikimedia.org/wikipedia/en/thumb/4/4a/Commons-logo.svg/12px-Commons-logo.svg.png\" srcset=\"//upload.wikimedia.org/wikipedia/en/thumb/4/4a/Commons-logo.svg/18px-Commons-logo.svg.png 1.5x, //upload.wikimedia.org/wikipedia/en/thumb/4/4a/Commons-logo.svg/24px-Commons-logo.svg.png 2x\" title=\"Commons page\" width=\"12\"/> <a class=\"extiw\" href=\"https://commons.wikimedia.org/wiki/Category:Free_software\" title=\"commons:Category:Free software\">Commons</a></li>\n",
       "<li><img alt=\"WikiProject\" data-file-height=\"100\" data-file-width=\"100\" decoding=\"async\" height=\"16\" src=\"//upload.wikimedia.org/wikipedia/commons/thumb/3/37/People_icon.svg/16px-People_icon.svg.png\" srcset=\"//upload.wikimedia.org/wikipedia/commons/thumb/3/37/People_icon.svg/24px-People_icon.svg.png 1.5x, //upload.wikimedia.org/wikipedia/commons/thumb/3/37/People_icon.svg/32px-People_icon.svg.png 2x\" title=\"WikiProject\" width=\"16\"/> <a href=\"/wiki/Wikipedia:WikiProject_Software/Free_and_open-source_software_task_force\" title=\"Wikipedia:WikiProject Software/Free and open-source software task force\">WikiProject</a></li>\n",
       "<li><img alt=\"Wikipedia book\" data-file-height=\"185\" data-file-width=\"180\" decoding=\"async\" height=\"16\" src=\"//upload.wikimedia.org/wikipedia/commons/thumb/8/89/Symbol_book_class2.svg/16px-Symbol_book_class2.svg.png\" srcset=\"//upload.wikimedia.org/wikipedia/commons/thumb/8/89/Symbol_book_class2.svg/23px-Symbol_book_class2.svg.png 1.5x, //upload.wikimedia.org/wikipedia/commons/thumb/8/89/Symbol_book_class2.svg/31px-Symbol_book_class2.svg.png 2x\" title=\"Wikipedia book\" width=\"16\"/> <a href=\"/wiki/Book:Free_and_Open_Source_Software\" title=\"Book:Free and Open Source Software\">Book</a></li></ul>\n",
       "</div></td></tr></tbody>"
      ]
     },
     "metadata": {},
     "output_type": "display_data"
    },
    {
     "data": {
      "text/plain": [
       "'******************************'"
      ]
     },
     "metadata": {},
     "output_type": "display_data"
    },
    {
     "data": {
      "text/plain": [
       "<tbody><tr><th class=\"navbox-title\" colspan=\"2\" scope=\"col\"><div class=\"plainlinks hlist navbar mini\"><ul><li class=\"nv-view\"><a href=\"/wiki/Template:FOSS\" title=\"Template:FOSS\"><abbr style=\";;background:none transparent;border:none;-moz-box-shadow:none;-webkit-box-shadow:none;box-shadow:none; padding:0;\" title=\"View this template\">v</abbr></a></li><li class=\"nv-talk\"><a href=\"/wiki/Template_talk:FOSS\" title=\"Template talk:FOSS\"><abbr style=\";;background:none transparent;border:none;-moz-box-shadow:none;-webkit-box-shadow:none;box-shadow:none; padding:0;\" title=\"Discuss this template\">t</abbr></a></li><li class=\"nv-edit\"><a class=\"external text\" href=\"https://en.wikipedia.org/w/index.php?title=Template:FOSS&amp;action=edit\"><abbr style=\";;background:none transparent;border:none;-moz-box-shadow:none;-webkit-box-shadow:none;box-shadow:none; padding:0;\" title=\"Edit this template\">e</abbr></a></li></ul></div><div id=\"Free_and_open-source_software\" style=\"font-size:114%;margin:0 4em\"><a href=\"/wiki/Free_and_open-source_software\" title=\"Free and open-source software\">Free and open-source software</a></div></th></tr><tr><th class=\"navbox-group\" scope=\"row\" style=\"width:1%\">General</th><td class=\"navbox-list navbox-odd\" style=\"text-align:left;border-left-width:2px;border-left-style:solid;width:100%;padding:0px\"><div style=\"padding:0em 0.25em\">\n",
       "<ul><li><a href=\"/wiki/Alternative_terms_for_free_software\" title=\"Alternative terms for free software\">Alternative terms for free software</a></li>\n",
       "<li><a href=\"/wiki/Comparison_of_open-source_and_closed-source_software\" title=\"Comparison of open-source and closed-source software\">Comparison of open-source and closed-source software</a></li>\n",
       "<li><a href=\"/wiki/Comparison_of_source-code-hosting_facilities\" title=\"Comparison of source-code-hosting facilities\">Comparison of source-code-hosting facilities</a></li>\n",
       "<li><a href=\"/wiki/Free_software\" title=\"Free software\">Free software</a></li>\n",
       "<li><a href=\"/wiki/List_of_free_software_project_directories\" title=\"List of free software project directories\">Free software project directories</a></li>\n",
       "<li><a href=\"/wiki/Gratis_versus_libre\" title=\"Gratis versus libre\">Gratis versus libre</a></li>\n",
       "<li><a href=\"/wiki/Long-term_support\" title=\"Long-term support\">Long-term support</a></li>\n",
       "<li><a href=\"/wiki/Open-source_software\" title=\"Open-source software\">Open-source software</a></li>\n",
       "<li><a href=\"/wiki/Open-source_software_development\" title=\"Open-source software development\">Open-source software development</a></li>\n",
       "<li><a href=\"/wiki/Outline_of_free_software\" title=\"Outline of free software\">Outline</a></li></ul>\n",
       "</div></td></tr><tr><th class=\"navbox-group\" scope=\"row\" style=\"width:1%\"><a href=\"/wiki/List_of_free_and_open-source_software_packages\" title=\"List of free and open-source software packages\">Software<br/>packages</a></th><td class=\"navbox-list navbox-even\" style=\"text-align:left;border-left-width:2px;border-left-style:solid;width:100%;padding:0px\"><div style=\"padding:0em 0.25em\">\n",
       "<ul><li><a href=\"/wiki/Comparison_of_free_software_for_audio\" title=\"Comparison of free software for audio\">Audio</a></li>\n",
       "<li><a href=\"/wiki/List_of_open-source_bioinformatics_software\" title=\"List of open-source bioinformatics software\">Bioinformatics</a></li>\n",
       "<li><a href=\"/wiki/List_of_open-source_codecs\" title=\"List of open-source codecs\">Codecs</a></li>\n",
       "<li><a href=\"/wiki/List_of_collaborative_software#Open_source_software\" title=\"List of collaborative software\">Collaboration</a></li>\n",
       "<li><a href=\"/wiki/Comparison_of_open-source_configuration_management_software\" title=\"Comparison of open-source configuration management software\">Configuration management</a></li>\n",
       "<li><a href=\"/wiki/Device_driver#Open_drivers\" title=\"Device driver\">Device drivers</a>\n",
       "<ul><li><a href=\"/wiki/Free_and_open-source_graphics_device_driver\" title=\"Free and open-source graphics device driver\">Graphics</a></li>\n",
       "<li><a href=\"/wiki/Comparison_of_open-source_wireless_drivers\" title=\"Comparison of open-source wireless drivers\">Wireless</a></li></ul></li>\n",
       "<li><a href=\"/wiki/Comparison_of_free_geophysics_software\" title=\"Comparison of free geophysics software\">Geophysics</a></li>\n",
       "<li><a href=\"/wiki/List_of_open-source_health_software\" title=\"List of open-source health software\">Health</a></li>\n",
       "<li><a href=\"/wiki/List_of_open-source_software_for_mathematics\" title=\"List of open-source software for mathematics\">Mathematics</a></li>\n",
       "<li><a href=\"/wiki/Comparison_of_open-source_operating_systems\" title=\"Comparison of open-source operating systems\">Operating systems</a></li>\n",
       "<li><a href=\"/wiki/Comparison_of_open-source_programming_language_licensing\" title=\"Comparison of open-source programming language licensing\">Programming languages</a></li>\n",
       "<li><a href=\"/wiki/List_of_open-source_routing_platforms\" title=\"List of open-source routing platforms\">Routing</a></li>\n",
       "<li><a class=\"mw-redirect\" href=\"/wiki/List_of_statistical_packages#Open-source_statistical_packages\" title=\"List of statistical packages\">Statistics</a></li>\n",
       "<li><a href=\"/wiki/List_of_free_television_software\" title=\"List of free television software\">Television</a></li>\n",
       "<li><a href=\"/wiki/List_of_open-source_video_games\" title=\"List of open-source video games\">Video games</a></li>\n",
       "<li><a href=\"/wiki/List_of_free_and_open-source_web_applications\" title=\"List of free and open-source web applications\">Web applications</a>\n",
       "<ul><li><a href=\"/wiki/List_of_content_management_systems#Open_source_software\" title=\"List of content management systems\">Content management systems</a></li>\n",
       "<li><a href=\"/wiki/Comparison_of_shopping_cart_software\" title=\"Comparison of shopping cart software\">E-commerce</a></li></ul></li>\n",
       "<li><a href=\"/wiki/List_of_word_processors#Free_and_open-source_software\" title=\"List of word processors\">Word processors</a></li>\n",
       "<li><a href=\"/wiki/List_of_free_and_open-source_Android_applications\" title=\"List of free and open-source Android applications\">Android apps</a></li>\n",
       "<li><a href=\"/wiki/List_of_free_and_open-source_iOS_applications\" title=\"List of free and open-source iOS applications\">iOS apps</a></li>\n",
       "<li><a href=\"/wiki/List_of_commercial_open-source_applications_and_services\" title=\"List of commercial open-source applications and services\">Commercial</a></li>\n",
       "<li><a href=\"/wiki/List_of_trademarked_open-source_software\" title=\"List of trademarked open-source software\">Trademarked</a></li>\n",
       "<li><a href=\"/wiki/List_of_formerly_proprietary_software\" title=\"List of formerly proprietary software\">Formerly proprietary</a></li></ul>\n",
       "</div></td></tr><tr><th class=\"navbox-group\" scope=\"row\" style=\"width:1%\"><a href=\"/wiki/Community_of_practice\" title=\"Community of practice\">Community</a></th><td class=\"navbox-list navbox-odd\" style=\"text-align:left;border-left-width:2px;border-left-style:solid;width:100%;padding:0px\"><div style=\"padding:0em 0.25em\">\n",
       "<ul><li><a href=\"/wiki/Free_software_movement\" title=\"Free software movement\">Free software movement</a></li>\n",
       "<li><a href=\"/wiki/History_of_free_and_open-source_software\" title=\"History of free and open-source software\">History</a></li>\n",
       "<li><a href=\"/wiki/Open-source-software_movement\" title=\"Open-source-software movement\">Open-source-software movement</a></li>\n",
       "<li><a href=\"/wiki/List_of_free_and_open-source_software_organizations\" title=\"List of free and open-source software organizations\">Organizations</a></li>\n",
       "<li><a href=\"/wiki/List_of_free-software_events\" title=\"List of free-software events\">Events</a></li></ul>\n",
       "</div></td></tr><tr><th class=\"navbox-group\" scope=\"row\" style=\"width:1%\"><a href=\"/wiki/Free_software_license\" title=\"Free software license\">Licenses</a></th><td class=\"navbox-list navbox-even\" style=\"text-align:left;border-left-width:2px;border-left-style:solid;width:100%;padding:0px\"><div style=\"padding:0em 0.25em\">\n",
       "<ul><li><a href=\"/wiki/Academic_Free_License\" title=\"Academic Free License\">AFL</a></li>\n",
       "<li><a href=\"/wiki/Apache_License\" title=\"Apache License\">Apache</a></li>\n",
       "<li><a href=\"/wiki/Apple_Public_Source_License\" title=\"Apple Public Source License\">APSL</a></li>\n",
       "<li><a href=\"/wiki/Artistic_License\" title=\"Artistic License\">Artistic</a></li>\n",
       "<li><a href=\"/wiki/Beerware\" title=\"Beerware\">Beerware</a></li>\n",
       "<li><a class=\"mw-redirect\" href=\"/wiki/Boost_Software_License\" title=\"Boost Software License\">Boost</a></li>\n",
       "<li><a href=\"/wiki/BSD_licenses\" title=\"BSD licenses\">BSD</a></li>\n",
       "<li><a href=\"/wiki/Creative_Commons_license#Zero_/_public_domain\" title=\"Creative Commons license\">CC0</a></li>\n",
       "<li><a href=\"/wiki/Common_Development_and_Distribution_License\" title=\"Common Development and Distribution License\">CDDL</a></li>\n",
       "<li><a href=\"/wiki/Eclipse_Public_License\" title=\"Eclipse Public License\">EPL</a></li>\n",
       "<li><a href=\"/wiki/Free_Software_Foundation\" title=\"Free Software Foundation\">Free Software Foundation</a>\n",
       "<ul><li><a href=\"/wiki/GNU_General_Public_License\" title=\"GNU General Public License\">GNU GPL</a></li>\n",
       "<li><a href=\"/wiki/GNU_Lesser_General_Public_License\" title=\"GNU Lesser General Public License\">GNU LGPL</a></li></ul></li>\n",
       "<li><a href=\"/wiki/ISC_license\" title=\"ISC license\">ISC</a></li>\n",
       "<li><a href=\"/wiki/MIT_License\" title=\"MIT License\">MIT</a></li>\n",
       "<li><a href=\"/wiki/Mozilla_Public_License\" title=\"Mozilla Public License\">MPL</a></li>\n",
       "<li><a class=\"mw-redirect\" href=\"/wiki/Microsoft_Public_License\" title=\"Microsoft Public License\">Ms-PL</a>/<a class=\"mw-redirect\" href=\"/wiki/Microsoft_Reciprocal_License\" title=\"Microsoft Reciprocal License\">RL</a></li>\n",
       "<li><a href=\"/wiki/Python_License\" title=\"Python License\">Python</a></li>\n",
       "<li><a href=\"/wiki/Python_Software_Foundation_License\" title=\"Python Software Foundation License\">Python Software Foundation License</a></li>\n",
       "<li><a href=\"/wiki/Sleepycat_License\" title=\"Sleepycat License\">Sleepycat</a></li>\n",
       "<li><a href=\"/wiki/Unlicense\" title=\"Unlicense\">Unlicense</a></li>\n",
       "<li><a href=\"/wiki/WTFPL\" title=\"WTFPL\">WTFPL</a></li>\n",
       "<li><a href=\"/wiki/Zlib_License\" title=\"Zlib License\">zlib</a></li></ul>\n",
       "</div><table class=\"nowraplinks navbox-subgroup\" style=\"border-spacing:0\"><tbody><tr><th class=\"navbox-group\" id=\"Types_and_standards\" scope=\"row\" style=\"width:1%\">Types and<br/> standards</th><td class=\"navbox-list navbox-odd\" style=\"text-align:left;border-left-width:2px;border-left-style:solid;width:100%;padding:0px\"><div style=\"padding:0em 0.25em\">\n",
       "<ul><li><a href=\"/wiki/Comparison_of_free_and_open-source_software_licenses\" title=\"Comparison of free and open-source software licenses\">Comparison of free and open-source software licenses</a></li>\n",
       "<li><a href=\"/wiki/Contributor_License_Agreement\" title=\"Contributor License Agreement\">Contributor License Agreement</a></li>\n",
       "<li><a href=\"/wiki/Copyleft\" title=\"Copyleft\">Copyleft</a></li>\n",
       "<li><a href=\"/wiki/Debian_Free_Software_Guidelines\" title=\"Debian Free Software Guidelines\">Debian Free Software Guidelines</a></li>\n",
       "<li><a href=\"/wiki/Definition_of_Free_Cultural_Works\" title=\"Definition of Free Cultural Works\">Definition of Free Cultural Works</a></li>\n",
       "<li><a href=\"/wiki/Free_license\" title=\"Free license\">Free license</a></li>\n",
       "<li><a href=\"/wiki/The_Free_Software_Definition\" title=\"The Free Software Definition\">The Free Software Definition</a></li>\n",
       "<li><a href=\"/wiki/The_Open_Source_Definition\" title=\"The Open Source Definition\">The Open Source Definition</a></li>\n",
       "<li><a href=\"/wiki/Open-source_license\" title=\"Open-source license\">Open-source license</a></li>\n",
       "<li><a href=\"/wiki/Permissive_software_license\" title=\"Permissive software license\">Permissive software license</a></li>\n",
       "<li><a href=\"/wiki/Public_domain\" title=\"Public domain\">Public domain</a></li>\n",
       "<li><a href=\"/wiki/Viral_license\" title=\"Viral license\">Viral license</a></li></ul>\n",
       "</div></td></tr></tbody></table><div>\n",
       "</div></td></tr><tr><th class=\"navbox-group\" scope=\"row\" style=\"width:1%\">Challenges</th><td class=\"navbox-list navbox-even\" style=\"text-align:left;border-left-width:2px;border-left-style:solid;width:100%;padding:0px\"><div style=\"padding:0em 0.25em\">\n",
       "<ul><li><a href=\"/wiki/Digital_rights_management\" title=\"Digital rights management\">Digital rights management</a></li>\n",
       "<li><a href=\"/wiki/Firmware#Security_risks\" title=\"Firmware\">Firmware security</a></li>\n",
       "<li><a href=\"/wiki/Hardware_restriction\" title=\"Hardware restriction\">Hardware restrictions</a></li>\n",
       "<li><a href=\"/wiki/License_proliferation\" title=\"License proliferation\">License proliferation</a></li>\n",
       "<li><a href=\"/wiki/Mozilla_software_rebranded_by_Debian\" title=\"Mozilla software rebranded by Debian\">Mozilla software rebranding</a></li>\n",
       "<li><a href=\"/wiki/Proprietary_device_driver\" title=\"Proprietary device driver\">Proprietary device drivers</a></li>\n",
       "<li><a href=\"/wiki/Proprietary_firmware\" title=\"Proprietary firmware\">Proprietary firmware</a></li>\n",
       "<li><a href=\"/wiki/Proprietary_software\" title=\"Proprietary software\">Proprietary software</a></li>\n",
       "<li><a href=\"/wiki/SCO%E2%80%93Linux_disputes\" title=\"SCO–Linux disputes\">SCO/Linux controversies</a></li>\n",
       "<li><a href=\"/wiki/Unified_Extensible_Firmware_Interface#Secure_boot\" title=\"Unified Extensible Firmware Interface\">Secure boot</a></li>\n",
       "<li><a href=\"/wiki/Software_patents_and_free_software\" title=\"Software patents and free software\">Software patents</a></li>\n",
       "<li><a href=\"/wiki/Open-source_software_security\" title=\"Open-source software security\">Software security</a></li>\n",
       "<li><a href=\"/wiki/Trusted_Computing\" title=\"Trusted Computing\">Trusted Computing</a></li></ul>\n",
       "</div></td></tr><tr><th class=\"navbox-group\" scope=\"row\" style=\"width:1%\">Related topics</th><td class=\"navbox-list navbox-odd\" style=\"text-align:left;border-left-width:2px;border-left-style:solid;width:100%;padding:0px\"><div style=\"padding:0em 0.25em\">\n",
       "<ul><li><a href=\"/wiki/Fork_(software_development)\" title=\"Fork (software development)\">Forking</a></li>\n",
       "<li><i><a href=\"/wiki/GNU_Manifesto\" title=\"GNU Manifesto\">GNU Manifesto</a></i></li>\n",
       "<li><a href=\"/wiki/Microsoft_Open_Specification_Promise\" title=\"Microsoft Open Specification Promise\">Microsoft Open Specification Promise</a></li>\n",
       "<li><a href=\"/wiki/Open-core_model\" title=\"Open-core model\">Open-core model</a></li>\n",
       "<li><a href=\"/wiki/Open-source_hardware\" title=\"Open-source hardware\">Open-source hardware</a></li>\n",
       "<li><a href=\"/wiki/Shared_Source_Initiative\" title=\"Shared Source Initiative\">Shared Source Initiative</a></li>\n",
       "<li><a href=\"/wiki/Source-available_software\" title=\"Source-available software\">Source-available software</a></li>\n",
       "<li><i><a href=\"/wiki/The_Cathedral_and_the_Bazaar\" title=\"The Cathedral and the Bazaar\">The Cathedral and the Bazaar</a></i></li>\n",
       "<li><i><a href=\"/wiki/Revolution_OS\" title=\"Revolution OS\">Revolution OS</a></i></li></ul>\n",
       "</div></td></tr><tr><td class=\"navbox-abovebelow\" colspan=\"2\" style=\"font-weight:bold\"><div>\n",
       "<ul><li><a class=\"image\" href=\"/wiki/File:Free_and_open-source_software_logo_(2009).svg\"><img alt=\"Free and open-source software logo (2009).svg\" class=\"noviewer\" data-file-height=\"512\" data-file-width=\"512\" decoding=\"async\" height=\"28\" src=\"//upload.wikimedia.org/wikipedia/commons/thumb/3/31/Free_and_open-source_software_logo_%282009%29.svg/28px-Free_and_open-source_software_logo_%282009%29.svg.png\" srcset=\"//upload.wikimedia.org/wikipedia/commons/thumb/3/31/Free_and_open-source_software_logo_%282009%29.svg/42px-Free_and_open-source_software_logo_%282009%29.svg.png 1.5x, //upload.wikimedia.org/wikipedia/commons/thumb/3/31/Free_and_open-source_software_logo_%282009%29.svg/56px-Free_and_open-source_software_logo_%282009%29.svg.png 2x\" width=\"28\"/></a> <a href=\"/wiki/Portal:Free_and_open-source_software\" title=\"Portal:Free and open-source software\">Free and open-source software portal</a></li>\n",
       "<li><img alt=\"Category\" data-file-height=\"31\" data-file-width=\"36\" decoding=\"async\" height=\"14\" src=\"//upload.wikimedia.org/wikipedia/en/thumb/4/48/Folder_Hexagonal_Icon.svg/16px-Folder_Hexagonal_Icon.svg.png\" srcset=\"//upload.wikimedia.org/wikipedia/en/thumb/4/48/Folder_Hexagonal_Icon.svg/24px-Folder_Hexagonal_Icon.svg.png 1.5x, //upload.wikimedia.org/wikipedia/en/thumb/4/48/Folder_Hexagonal_Icon.svg/32px-Folder_Hexagonal_Icon.svg.png 2x\" title=\"Category\" width=\"16\"/> <a href=\"/wiki/Category:Free_software\" title=\"Category:Free software\">Category</a></li>\n",
       "<li><img alt=\"Commons page\" data-file-height=\"1376\" data-file-width=\"1024\" decoding=\"async\" height=\"16\" src=\"//upload.wikimedia.org/wikipedia/en/thumb/4/4a/Commons-logo.svg/12px-Commons-logo.svg.png\" srcset=\"//upload.wikimedia.org/wikipedia/en/thumb/4/4a/Commons-logo.svg/18px-Commons-logo.svg.png 1.5x, //upload.wikimedia.org/wikipedia/en/thumb/4/4a/Commons-logo.svg/24px-Commons-logo.svg.png 2x\" title=\"Commons page\" width=\"12\"/> <a class=\"extiw\" href=\"https://commons.wikimedia.org/wiki/Category:Free_software\" title=\"commons:Category:Free software\">Commons</a></li>\n",
       "<li><img alt=\"WikiProject\" data-file-height=\"100\" data-file-width=\"100\" decoding=\"async\" height=\"16\" src=\"//upload.wikimedia.org/wikipedia/commons/thumb/3/37/People_icon.svg/16px-People_icon.svg.png\" srcset=\"//upload.wikimedia.org/wikipedia/commons/thumb/3/37/People_icon.svg/24px-People_icon.svg.png 1.5x, //upload.wikimedia.org/wikipedia/commons/thumb/3/37/People_icon.svg/32px-People_icon.svg.png 2x\" title=\"WikiProject\" width=\"16\"/> <a href=\"/wiki/Wikipedia:WikiProject_Software/Free_and_open-source_software_task_force\" title=\"Wikipedia:WikiProject Software/Free and open-source software task force\">WikiProject</a></li>\n",
       "<li><img alt=\"Wikipedia book\" data-file-height=\"185\" data-file-width=\"180\" decoding=\"async\" height=\"16\" src=\"//upload.wikimedia.org/wikipedia/commons/thumb/8/89/Symbol_book_class2.svg/16px-Symbol_book_class2.svg.png\" srcset=\"//upload.wikimedia.org/wikipedia/commons/thumb/8/89/Symbol_book_class2.svg/23px-Symbol_book_class2.svg.png 1.5x, //upload.wikimedia.org/wikipedia/commons/thumb/8/89/Symbol_book_class2.svg/31px-Symbol_book_class2.svg.png 2x\" title=\"Wikipedia book\" width=\"16\"/> <a href=\"/wiki/Book:Free_and_Open_Source_Software\" title=\"Book:Free and Open Source Software\">Book</a></li></ul>\n",
       "</div></td></tr></tbody>"
      ]
     },
     "metadata": {},
     "output_type": "display_data"
    }
   ],
   "source": [
    "my_table = soup.find_all('table')[5]\n",
    "\n",
    "# using next elements\n",
    "display(my_table.next_element)\n",
    "\n",
    "display('*' * 30)\n",
    "\n",
    "for child in my_table.children:\n",
    "    display(child)"
   ]
  },
  {
   "cell_type": "code",
   "execution_count": null,
   "metadata": {},
   "outputs": [],
   "source": []
  }
 ],
 "metadata": {
  "kernelspec": {
   "display_name": "Python 3",
   "language": "python",
   "name": "python3"
  },
  "language_info": {
   "codemirror_mode": {
    "name": "ipython",
    "version": 3
   },
   "file_extension": ".py",
   "mimetype": "text/x-python",
   "name": "python",
   "nbconvert_exporter": "python",
   "pygments_lexer": "ipython3",
   "version": "3.7.3"
  }
 },
 "nbformat": 4,
 "nbformat_minor": 2
}
