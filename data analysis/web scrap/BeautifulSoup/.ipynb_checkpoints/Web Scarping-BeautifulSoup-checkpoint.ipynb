{
 "cells": [
  {
   "cell_type": "code",
   "execution_count": 1,
   "metadata": {},
   "outputs": [],
   "source": [
    "from bs4 import BeautifulSoup\n",
    "from urllib.request import Request, urlopen\n",
    "import urllib.request"
   ]
  },
  {
   "cell_type": "code",
   "execution_count": 2,
   "metadata": {},
   "outputs": [],
   "source": [
    "# define the url we want to scrap \n",
    "\n",
    "wiki_url = r\"https://en.wikipedia.org/wiki/Python_(programming_language)\"\n",
    "response_object = urllib.request.urlopen(wiki_url)\n",
    "response_object\n",
    "\n",
    "\n",
    "#create the soup \n",
    "soup = BeautifulSoup(response_object,'html.parser')\n",
    "# display(soup)\n"
   ]
  },
  {
   "cell_type": "code",
   "execution_count": 3,
   "metadata": {},
   "outputs": [
    {
     "data": {
      "text/plain": [
       "<a href=\"/wiki/Wikipedia:Good_articles\" title=\"This is a good article. Follow the link for more information.\"><img alt=\"This is a good article. Follow the link for more information.\" data-file-height=\"185\" data-file-width=\"180\" decoding=\"async\" height=\"20\" src=\"//upload.wikimedia.org/wikipedia/en/thumb/9/94/Symbol_support_vote.svg/19px-Symbol_support_vote.svg.png\" srcset=\"//upload.wikimedia.org/wikipedia/en/thumb/9/94/Symbol_support_vote.svg/29px-Symbol_support_vote.svg.png 1.5x, //upload.wikimedia.org/wikipedia/en/thumb/9/94/Symbol_support_vote.svg/39px-Symbol_support_vote.svg.png 2x\" width=\"19\"/></a>"
      ]
     },
     "execution_count": 3,
     "metadata": {},
     "output_type": "execute_result"
    }
   ],
   "source": [
    "# find the first instance of an 'a' tag\n",
    "link = soup.find('a',href = True)\n",
    "link"
   ]
  },
  {
   "cell_type": "code",
   "execution_count": 4,
   "metadata": {},
   "outputs": [
    {
     "data": {
      "text/plain": [
       "bs4.element.Tag"
      ]
     },
     "metadata": {},
     "output_type": "display_data"
    },
    {
     "data": {
      "text/plain": [
       "'a'"
      ]
     },
     "metadata": {},
     "output_type": "display_data"
    },
    {
     "data": {
      "text/plain": [
       "{'href': '/wiki/Wikipedia:Good_articles',\n",
       " 'title': 'This is a good article. Follow the link for more information.'}"
      ]
     },
     "metadata": {},
     "output_type": "display_data"
    },
    {
     "data": {
      "text/plain": [
       "'/wiki/Wikipedia:Good_articles'"
      ]
     },
     "metadata": {},
     "output_type": "display_data"
    },
    {
     "data": {
      "text/plain": [
       "''"
      ]
     },
     "metadata": {},
     "output_type": "display_data"
    }
   ],
   "source": [
    "# what is the tpye \n",
    "display(type(link))\n",
    "\n",
    "# define the tpye name \n",
    "display(link.name)\n",
    "\n",
    "# get the dictionary of all the attributese\n",
    "display(link.attrs)\n",
    "\n",
    "# get the attribute values\n",
    "display(link['href'])\n",
    "\n",
    "# get the text\n",
    "display(link.text)"
   ]
  },
  {
   "cell_type": "code",
   "execution_count": 5,
   "metadata": {},
   "outputs": [
    {
     "data": {
      "text/plain": [
       "bs4.element.Tag"
      ]
     },
     "metadata": {},
     "output_type": "display_data"
    },
    {
     "data": {
      "text/plain": [
       "1591"
      ]
     },
     "execution_count": 5,
     "metadata": {},
     "output_type": "execute_result"
    }
   ],
   "source": [
    "# find all the 'a' tag on the document \n",
    "links = soup.find_all('a')\n",
    "\n",
    "# define the type \n",
    "display(type(link))\n",
    "        \n",
    "len(links)"
   ]
  },
  {
   "cell_type": "code",
   "execution_count": 6,
   "metadata": {},
   "outputs": [
    {
     "name": "stdout",
     "output_type": "stream",
     "text": [
      "/wiki/Wikipedia:Good_articles\n",
      "This is a good article. Follow the link for more information.\n",
      "#mw-head\n",
      "#p-search\n",
      "/wiki/Python_(disambiguation)\n",
      "Python (disambiguation)\n",
      "/wiki/File:Python_logo_and_wordmark.svg\n",
      "/wiki/Programming_paradigm\n",
      "Programming paradigm\n",
      "/wiki/Multi-paradigm_programming_language\n",
      "Multi-paradigm programming language\n",
      "/wiki/Functional_programming\n",
      "Functional programming\n",
      "/wiki/Imperative_programming\n",
      "Imperative programming\n",
      "/wiki/Object-oriented_programming\n",
      "Object-oriented programming\n"
     ]
    }
   ],
   "source": [
    "# find all the 'a' tag on the document \n",
    "links = soup.find_all('a', href = True)\n",
    "\n",
    "for link in links[0:10]:\n",
    "    print(link['href'])\n",
    "    try:\n",
    "        print(link['title'])\n",
    "    except:\n",
    "        continue"
   ]
  },
  {
   "cell_type": "code",
   "execution_count": 7,
   "metadata": {},
   "outputs": [],
   "source": [
    "# find all the tables and a tags\n",
    "tables_and_a = soup.find_all(['a','table'])\n",
    "\n",
    "table_headers = soup.find_all('th',style=True)\n",
    "\n",
    "wiki_tables = soup.find_all('table',class_='wikitable')\n",
    "\n",
    "# define a function to find the items\n",
    "def list_with_links(tag):\n",
    "    return tag.name == 'li' and len(tag.find_all('a'))>7\n",
    "\n",
    "# list a time with a tag\n",
    "list_with_a = soup.find_all(list_with_links)\n",
    "\n",
    "# display(list_with_a)"
   ]
  },
  {
   "cell_type": "code",
   "execution_count": 8,
   "metadata": {},
   "outputs": [
    {
     "name": "stdout",
     "output_type": "stream",
     "text": [
      "<html>\n",
      " <body>\n",
      "  <a>\n",
      "   <b>\n",
      "    text1\n",
      "   </b>\n",
      "   <c>\n",
      "    text2\n",
      "   </c>\n",
      "  </a>\n",
      " </body>\n",
      "</html>\n"
     ]
    }
   ],
   "source": [
    "# define a simple tree\n",
    "simple_tree = \"\"\"<html><body><a><b>text1</b><c>text2</c></a></body></html>\"\"\"\n",
    "\n",
    "# pass the simple tree into Parser to create a simple soup\n",
    "simple_soup = BeautifulSoup(simple_tree,'html.parser')\n",
    "\n",
    "print(simple_soup.prettify())\n"
   ]
  },
  {
   "cell_type": "code",
   "execution_count": 9,
   "metadata": {},
   "outputs": [
    {
     "data": {
      "text/plain": [
       "[<b>text1</b>, <c>text2</c>]"
      ]
     },
     "metadata": {},
     "output_type": "display_data"
    },
    {
     "data": {
      "text/plain": [
       "<b>text1</b>"
      ]
     },
     "metadata": {},
     "output_type": "display_data"
    },
    {
     "data": {
      "text/plain": [
       "2"
      ]
     },
     "metadata": {},
     "output_type": "display_data"
    },
    {
     "data": {
      "text/plain": [
       "4"
      ]
     },
     "metadata": {},
     "output_type": "display_data"
    }
   ],
   "source": [
    "# create a list of the children of a tag in the simple soup \n",
    "a_content = simple_soup.a.contents\n",
    "\n",
    "display(a_content)\n",
    "\n",
    "# the first child of a tag\n",
    "display(a_content[0])\n",
    "\n",
    "# count the number of elements of both the children and descendants\n",
    "display(len(list(simple_soup.a.children)))\n",
    "display(len(list(simple_soup.a.descendants)))"
   ]
  },
  {
   "cell_type": "code",
   "execution_count": 10,
   "metadata": {},
   "outputs": [
    {
     "data": {
      "text/plain": [
       "<body><a><b>text1</b><c>text2</c></a></body>"
      ]
     },
     "metadata": {},
     "output_type": "display_data"
    },
    {
     "name": "stdout",
     "output_type": "stream",
     "text": [
      "<body><a><b>text1</b><c>text2</c></a></body>\n",
      "<html><body><a><b>text1</b><c>text2</c></a></body></html>\n",
      "<html><body><a><b>text1</b><c>text2</c></a></body></html>\n"
     ]
    }
   ],
   "source": [
    "# get the parent of the a tag\n",
    "display(simple_soup.a.parent)\n",
    "\n",
    "# loop the parents of the a tag \n",
    "for parent in simple_soup.a.parents:\n",
    "    print(parent)"
   ]
  },
  {
   "cell_type": "code",
   "execution_count": 11,
   "metadata": {},
   "outputs": [
    {
     "data": {
      "text/plain": [
       "<b>text1</b>"
      ]
     },
     "metadata": {},
     "output_type": "display_data"
    },
    {
     "data": {
      "text/plain": [
       "<c>text2</c>"
      ]
     },
     "metadata": {},
     "output_type": "display_data"
    },
    {
     "data": {
      "text/plain": [
       "None"
      ]
     },
     "metadata": {},
     "output_type": "display_data"
    }
   ],
   "source": [
    "# display b tag\n",
    "display(simple_soup.b)\n",
    "\n",
    "# dose b has the sibling\n",
    "display(simple_soup.b.next_sibling)\n",
    "display(simple_soup.b.pervious_sibling)"
   ]
  },
  {
   "cell_type": "code",
   "execution_count": 12,
   "metadata": {},
   "outputs": [
    {
     "data": {
      "text/plain": [
       "<body><a><b>text1</b><c>text2</c></a></body>"
      ]
     },
     "metadata": {},
     "output_type": "display_data"
    },
    {
     "data": {
      "text/plain": [
       "<a><b>text1</b><c>text2</c></a>"
      ]
     },
     "metadata": {},
     "output_type": "display_data"
    }
   ],
   "source": [
    "# grab the body\n",
    "display(simple_soup.body)\n",
    "\n",
    "# go to the next element\n",
    "display(simple_soup.body.next_element)"
   ]
  },
  {
   "cell_type": "code",
   "execution_count": 13,
   "metadata": {},
   "outputs": [
    {
     "name": "stdout",
     "output_type": "stream",
     "text": [
      "<table class=\"infobox vevent\" style=\"width:22em\">\n",
      " <caption class=\"summary\">\n",
      "  Python\n",
      " </caption>\n",
      " <tbody>\n",
      "  <tr>\n",
      "   <td colspan=\"2\" style=\"text-align:center\">\n",
      "    <a class=\"image\" href=\"/wiki/File:Python_logo_and_wordmark.svg\">\n",
      "     <img alt=\"Python logo and wordmark.svg\" data-file-height=\"144\" data-file-width=\"486\" decoding=\"async\" height=\"59\" src=\"//upload.wikimedia.org/wikipedia/commons/thumb/f/f8/Python_logo_and_wordmark.svg/200px-Python_logo_and_wordmark.svg.png\" srcset=\"//upload.wikimedia.org/wikipedia/commons/thumb/f/f8/Python_logo_and_wordmark.svg/300px-Python_logo_and_wordmark.svg.png 1.5x, //upload.wikimedia.org/wikipedia/commons/thumb/f/f8/Python_logo_and_wordmark.svg/400px-Python_logo_and_wordmark.svg.png 2x\" width=\"200\"/>\n",
      "    </a>\n",
      "   </td>\n",
      "  </tr>\n",
      "  <tr>\n",
      "   <th scope=\"row\">\n",
      "    <a href=\"/wiki/Programming_paradigm\" title=\"Programming paradigm\">\n",
      "     Paradigm\n",
      "    </a>\n",
      "   </th>\n",
      "   <td>\n",
      "    <a class=\"mw-redirect\" href=\"/wiki/Multi-paradigm_programming_language\" title=\"Multi-paradigm programming language\">\n",
      "     Multi-paradigm\n",
      "    </a>\n",
      "    :\n",
      "    <a href=\"/wiki/Functional_programming\" title=\"Functional programming\">\n",
      "     functional\n",
      "    </a>\n",
      "    ,\n",
      "    <a href=\"/wiki/Imperative_programming\" title=\"Imperative programming\">\n",
      "     imperative\n",
      "    </a>\n",
      "    ,\n",
      "    <a href=\"/wiki/Object-oriented_programming\" title=\"Object-oriented programming\">\n",
      "     object-oriented\n",
      "    </a>\n",
      "    ,\n",
      "    <a class=\"mw-redirect\" href=\"/wiki/Reflective_programming\" title=\"Reflective programming\">\n",
      "     reflective\n",
      "    </a>\n",
      "   </td>\n",
      "  </tr>\n",
      "  <tr>\n",
      "   <th scope=\"row\">\n",
      "    <a href=\"/wiki/Software_design\" title=\"Software design\">\n",
      "     Designed by\n",
      "    </a>\n",
      "   </th>\n",
      "   <td>\n",
      "    <a href=\"/wiki/Guido_van_Rossum\" title=\"Guido van Rossum\">\n",
      "     Guido van Rossum\n",
      "    </a>\n",
      "   </td>\n",
      "  </tr>\n",
      "  <tr>\n",
      "   <th scope=\"row\">\n",
      "    <a class=\"mw-redirect\" href=\"/wiki/Software_developer\" title=\"Software developer\">\n",
      "     Developer\n",
      "    </a>\n",
      "   </th>\n",
      "   <td class=\"organiser\">\n",
      "    <a href=\"/wiki/Python_Software_Foundation\" title=\"Python Software Foundation\">\n",
      "     Python Software Foundation\n",
      "    </a>\n",
      "   </td>\n",
      "  </tr>\n",
      "  <tr>\n",
      "   <th scope=\"row\">\n",
      "    First appeared\n",
      "   </th>\n",
      "   <td>\n",
      "    1990\n",
      "    <span class=\"noprint\">\n",
      "     ; 29 years ago\n",
      "    </span>\n",
      "    <span style=\"display:none\">\n",
      "     (\n",
      "     <span class=\"bday dtstart published updated\">\n",
      "      1990\n",
      "     </span>\n",
      "     )\n",
      "    </span>\n",
      "    <sup class=\"reference\" id=\"cite_ref-guttag_1-0\">\n",
      "     <a href=\"#cite_note-guttag-1\">\n",
      "      [1]\n",
      "     </a>\n",
      "    </sup>\n",
      "   </td>\n",
      "  </tr>\n",
      "  <tr>\n",
      "   <td colspan=\"2\" style=\"text-align:center\">\n",
      "   </td>\n",
      "  </tr>\n",
      "  <tr>\n",
      "   <th scope=\"row\" style=\"white-space: nowrap;\">\n",
      "    <a href=\"/wiki/Software_release_life_cycle\" title=\"Software release life cycle\">\n",
      "     Stable release\n",
      "    </a>\n",
      "   </th>\n",
      "   <td>\n",
      "    <div style=\"margin:0px;\">\n",
      "     3.7.4 / 8 July 2019\n",
      "     <span class=\"noprint\">\n",
      "      ; 2 months ago\n",
      "     </span>\n",
      "     <span style=\"display:none\">\n",
      "      (\n",
      "      <span class=\"bday dtstart published updated\">\n",
      "       2019-07-08\n",
      "      </span>\n",
      "      )\n",
      "     </span>\n",
      "     <sup class=\"reference\" id=\"cite_ref-2\">\n",
      "      <a href=\"#cite_note-2\">\n",
      "       [2]\n",
      "      </a>\n",
      "     </sup>\n",
      "     <br/>\n",
      "     2.7.16 / 4 March 2019\n",
      "     <span class=\"noprint\">\n",
      "      ; 6 months ago\n",
      "     </span>\n",
      "     <span style=\"display:none\">\n",
      "      (\n",
      "      <span class=\"bday dtstart published updated\">\n",
      "       2019-03-04\n",
      "      </span>\n",
      "      )\n",
      "     </span>\n",
      "     <sup class=\"reference\" id=\"cite_ref-3\">\n",
      "      <a href=\"#cite_note-3\">\n",
      "       [3]\n",
      "      </a>\n",
      "     </sup>\n",
      "    </div>\n",
      "   </td>\n",
      "  </tr>\n",
      "  <tr style=\"display:none\">\n",
      "   <td colspan=\"2\">\n",
      "   </td>\n",
      "  </tr>\n",
      "  <tr>\n",
      "   <th scope=\"row\">\n",
      "    <a href=\"/wiki/Type_system\" title=\"Type system\">\n",
      "     Typing discipline\n",
      "    </a>\n",
      "   </th>\n",
      "   <td>\n",
      "    <a href=\"/wiki/Duck_typing\" title=\"Duck typing\">\n",
      "     Duck\n",
      "    </a>\n",
      "    ,\n",
      "    <a class=\"mw-redirect\" href=\"/wiki/Dynamic_typing\" title=\"Dynamic typing\">\n",
      "     dynamic\n",
      "    </a>\n",
      "    ,\n",
      "    <a href=\"/wiki/Gradual_typing\" title=\"Gradual typing\">\n",
      "     gradual\n",
      "    </a>\n",
      "    (since 3.5)\n",
      "    <sup class=\"reference\" id=\"cite_ref-4\">\n",
      "     <a href=\"#cite_note-4\">\n",
      "      [4]\n",
      "     </a>\n",
      "    </sup>\n",
      "   </td>\n",
      "  </tr>\n",
      "  <tr>\n",
      "   <th scope=\"row\">\n",
      "    <a href=\"/wiki/Software_license\" title=\"Software license\">\n",
      "     License\n",
      "    </a>\n",
      "   </th>\n",
      "   <td>\n",
      "    <a href=\"/wiki/Python_Software_Foundation_License\" title=\"Python Software Foundation License\">\n",
      "     Python Software Foundation License\n",
      "    </a>\n",
      "   </td>\n",
      "  </tr>\n",
      "  <tr>\n",
      "   <th scope=\"row\">\n",
      "    <a href=\"/wiki/Filename_extension\" title=\"Filename extension\">\n",
      "     Filename extensions\n",
      "    </a>\n",
      "   </th>\n",
      "   <td>\n",
      "    .py, .pyc, .pyd, .pyo (prior to 3.5),\n",
      "    <sup class=\"reference\" id=\"cite_ref-5\">\n",
      "     <a href=\"#cite_note-5\">\n",
      "      [5]\n",
      "     </a>\n",
      "    </sup>\n",
      "    .pyw, .pyz (since 3.5)\n",
      "    <sup class=\"reference\" id=\"cite_ref-6\">\n",
      "     <a href=\"#cite_note-6\">\n",
      "      [6]\n",
      "     </a>\n",
      "    </sup>\n",
      "   </td>\n",
      "  </tr>\n",
      "  <tr>\n",
      "   <th scope=\"row\">\n",
      "    Website\n",
      "   </th>\n",
      "   <td>\n",
      "    <span class=\"url\">\n",
      "     <a class=\"external text\" href=\"https://www.python.org/\" rel=\"nofollow\">\n",
      "      www\n",
      "      <wbr/>\n",
      "      .python\n",
      "      <wbr/>\n",
      "      .org\n",
      "     </a>\n",
      "    </span>\n",
      "   </td>\n",
      "  </tr>\n",
      "  <tr>\n",
      "   <th colspan=\"2\" style=\"text-align:center;background-color: #eee;\">\n",
      "    Major\n",
      "    <a href=\"/wiki/Programming_language_implementation\" title=\"Programming language implementation\">\n",
      "     implementations\n",
      "    </a>\n",
      "   </th>\n",
      "  </tr>\n",
      "  <tr>\n",
      "   <td colspan=\"2\" style=\"text-align:center\">\n",
      "    <a href=\"/wiki/CPython\" title=\"CPython\">\n",
      "     CPython\n",
      "    </a>\n",
      "    ,\n",
      "    <a href=\"/wiki/PyPy\" title=\"PyPy\">\n",
      "     PyPy\n",
      "    </a>\n",
      "    ,\n",
      "    <a href=\"/wiki/Stackless_Python\" title=\"Stackless Python\">\n",
      "     Stackless Python\n",
      "    </a>\n",
      "    ,\n",
      "    <a href=\"/wiki/MicroPython\" title=\"MicroPython\">\n",
      "     MicroPython\n",
      "    </a>\n",
      "    ,\n",
      "    <a href=\"/wiki/CircuitPython\" title=\"CircuitPython\">\n",
      "     CircuitPython\n",
      "    </a>\n",
      "    ,\n",
      "    <a href=\"/wiki/IronPython\" title=\"IronPython\">\n",
      "     IronPython\n",
      "    </a>\n",
      "    ,\n",
      "    <a href=\"/wiki/Jython\" title=\"Jython\">\n",
      "     Jython\n",
      "    </a>\n",
      "    , RustPython\n",
      "   </td>\n",
      "  </tr>\n",
      "  <tr>\n",
      "   <th colspan=\"2\" style=\"text-align:center;background-color: #eee;\">\n",
      "    <a href=\"/wiki/Programming_language#Dialects,_flavors_and_implementations\" title=\"Programming language\">\n",
      "     Dialects\n",
      "    </a>\n",
      "   </th>\n",
      "  </tr>\n",
      "  <tr>\n",
      "   <td colspan=\"2\" style=\"text-align:center\">\n",
      "    <a href=\"/wiki/Cython\" title=\"Cython\">\n",
      "     Cython\n",
      "    </a>\n",
      "    ,\n",
      "    <a class=\"mw-redirect\" href=\"/wiki/RPython\" title=\"RPython\">\n",
      "     RPython\n",
      "    </a>\n",
      "    ,\n",
      "    <a href=\"/wiki/Bazel_(software)\" title=\"Bazel (software)\">\n",
      "     Starlark\n",
      "    </a>\n",
      "    <sup class=\"reference\" id=\"cite_ref-7\">\n",
      "     <a href=\"#cite_note-7\">\n",
      "      [7]\n",
      "     </a>\n",
      "    </sup>\n",
      "   </td>\n",
      "  </tr>\n",
      "  <tr>\n",
      "   <th colspan=\"2\" style=\"text-align:center;background-color: #eee;\">\n",
      "    Influenced by\n",
      "   </th>\n",
      "  </tr>\n",
      "  <tr>\n",
      "   <td colspan=\"2\" style=\"text-align:center\">\n",
      "    <a href=\"/wiki/ABC_(programming_language)\" title=\"ABC (programming language)\">\n",
      "     ABC\n",
      "    </a>\n",
      "    ,\n",
      "    <sup class=\"reference\" id=\"cite_ref-faq-created_8-0\">\n",
      "     <a href=\"#cite_note-faq-created-8\">\n",
      "      [8]\n",
      "     </a>\n",
      "    </sup>\n",
      "    <a href=\"/wiki/ALGOL_68\" title=\"ALGOL 68\">\n",
      "     ALGOL 68\n",
      "    </a>\n",
      "    ,\n",
      "    <sup class=\"reference\" id=\"cite_ref-98-interview_9-0\">\n",
      "     <a href=\"#cite_note-98-interview-9\">\n",
      "      [9]\n",
      "     </a>\n",
      "    </sup>\n",
      "    <a href=\"/wiki/APL_(programming_language)\" title=\"APL (programming language)\">\n",
      "     APL\n",
      "    </a>\n",
      "    ,\n",
      "    <sup class=\"reference\" id=\"cite_ref-python.org_10-0\">\n",
      "     <a href=\"#cite_note-python.org-10\">\n",
      "      [10]\n",
      "     </a>\n",
      "    </sup>\n",
      "    <a href=\"/wiki/C_(programming_language)\" title=\"C (programming language)\">\n",
      "     C\n",
      "    </a>\n",
      "    ,\n",
      "    <sup class=\"reference\" id=\"cite_ref-AutoNT-1_11-0\">\n",
      "     <a href=\"#cite_note-AutoNT-1-11\">\n",
      "      [11]\n",
      "     </a>\n",
      "    </sup>\n",
      "    <a href=\"/wiki/C%2B%2B\" title=\"C++\">\n",
      "     C++\n",
      "    </a>\n",
      "    ,\n",
      "    <sup class=\"reference\" id=\"cite_ref-classmix_12-0\">\n",
      "     <a href=\"#cite_note-classmix-12\">\n",
      "      [12]\n",
      "     </a>\n",
      "    </sup>\n",
      "    <a href=\"/wiki/CLU_(programming_language)\" title=\"CLU (programming language)\">\n",
      "     CLU\n",
      "    </a>\n",
      "    ,\n",
      "    <sup class=\"reference\" id=\"cite_ref-effbot-call-by-object_13-0\">\n",
      "     <a href=\"#cite_note-effbot-call-by-object-13\">\n",
      "      [13]\n",
      "     </a>\n",
      "    </sup>\n",
      "    <a href=\"/wiki/Dylan_(programming_language)\" title=\"Dylan (programming language)\">\n",
      "     Dylan\n",
      "    </a>\n",
      "    ,\n",
      "    <sup class=\"reference\" id=\"cite_ref-AutoNT-2_14-0\">\n",
      "     <a href=\"#cite_note-AutoNT-2-14\">\n",
      "      [14]\n",
      "     </a>\n",
      "    </sup>\n",
      "    <a href=\"/wiki/Haskell_(programming_language)\" title=\"Haskell (programming language)\">\n",
      "     Haskell\n",
      "    </a>\n",
      "    ,\n",
      "    <sup class=\"reference\" id=\"cite_ref-AutoNT-3_15-0\">\n",
      "     <a href=\"#cite_note-AutoNT-3-15\">\n",
      "      [15]\n",
      "     </a>\n",
      "    </sup>\n",
      "    <a href=\"/wiki/Icon_(programming_language)\" title=\"Icon (programming language)\">\n",
      "     Icon\n",
      "    </a>\n",
      "    ,\n",
      "    <sup class=\"reference\" id=\"cite_ref-AutoNT-4_16-0\">\n",
      "     <a href=\"#cite_note-AutoNT-4-16\">\n",
      "      [16]\n",
      "     </a>\n",
      "    </sup>\n",
      "    <a href=\"/wiki/Java_(programming_language)\" title=\"Java (programming language)\">\n",
      "     Java\n",
      "    </a>\n",
      "    ,\n",
      "    <sup class=\"reference\" id=\"cite_ref-AutoNT-5_17-0\">\n",
      "     <a href=\"#cite_note-AutoNT-5-17\">\n",
      "      [17]\n",
      "     </a>\n",
      "    </sup>\n",
      "    <a href=\"/wiki/Lisp_(programming_language)\" title=\"Lisp (programming language)\">\n",
      "     Lisp\n",
      "    </a>\n",
      "    ,\n",
      "    <sup class=\"reference\" id=\"cite_ref-AutoNT-6_18-0\">\n",
      "     <a href=\"#cite_note-AutoNT-6-18\">\n",
      "      [18]\n",
      "     </a>\n",
      "    </sup>\n",
      "    <a href=\"/wiki/Modula-3\" title=\"Modula-3\">\n",
      "     Modula-3\n",
      "    </a>\n",
      "    ,\n",
      "    <sup class=\"reference\" id=\"cite_ref-classmix_12-1\">\n",
      "     <a href=\"#cite_note-classmix-12\">\n",
      "      [12]\n",
      "     </a>\n",
      "    </sup>\n",
      "    <a href=\"/wiki/Perl\" title=\"Perl\">\n",
      "     Perl\n",
      "    </a>\n",
      "    ,\n",
      "    <a href=\"/wiki/Standard_ML\" title=\"Standard ML\">\n",
      "     Standard ML\n",
      "    </a>\n",
      "    <sup class=\"reference\" id=\"cite_ref-python.org_10-1\">\n",
      "     <a href=\"#cite_note-python.org-10\">\n",
      "      [10]\n",
      "     </a>\n",
      "    </sup>\n",
      "   </td>\n",
      "  </tr>\n",
      "  <tr>\n",
      "   <th colspan=\"2\" style=\"text-align:center;background-color: #eee;\">\n",
      "    Influenced\n",
      "   </th>\n",
      "  </tr>\n",
      "  <tr>\n",
      "   <td colspan=\"2\" style=\"text-align:center\">\n",
      "    <a href=\"/wiki/Apache_Groovy\" title=\"Apache Groovy\">\n",
      "     Apache Groovy\n",
      "    </a>\n",
      "    ,\n",
      "    <a href=\"/wiki/Boo_(programming_language)\" title=\"Boo (programming language)\">\n",
      "     Boo\n",
      "    </a>\n",
      "    ,\n",
      "    <a href=\"/wiki/Cobra_(programming_language)\" title=\"Cobra (programming language)\">\n",
      "     Cobra\n",
      "    </a>\n",
      "    ,\n",
      "    <a href=\"/wiki/CoffeeScript\" title=\"CoffeeScript\">\n",
      "     CoffeeScript\n",
      "    </a>\n",
      "    ,\n",
      "    <sup class=\"reference\" id=\"cite_ref-19\">\n",
      "     <a href=\"#cite_note-19\">\n",
      "      [19]\n",
      "     </a>\n",
      "    </sup>\n",
      "    <a href=\"/wiki/D_(programming_language)\" title=\"D (programming language)\">\n",
      "     D\n",
      "    </a>\n",
      "    ,\n",
      "    <a href=\"/wiki/F_Sharp_(programming_language)\" title=\"F Sharp (programming language)\">\n",
      "     F#\n",
      "    </a>\n",
      "    ,\n",
      "    <a href=\"/wiki/Genie_(programming_language)\" title=\"Genie (programming language)\">\n",
      "     Genie\n",
      "    </a>\n",
      "    ,\n",
      "    <sup class=\"reference\" id=\"cite_ref-20\">\n",
      "     <a href=\"#cite_note-20\">\n",
      "      [20]\n",
      "     </a>\n",
      "    </sup>\n",
      "    <a href=\"/wiki/Go_(programming_language)\" title=\"Go (programming language)\">\n",
      "     Go\n",
      "    </a>\n",
      "    ,\n",
      "    <a href=\"/wiki/JavaScript\" title=\"JavaScript\">\n",
      "     JavaScript\n",
      "    </a>\n",
      "    ,\n",
      "    <sup class=\"reference\" id=\"cite_ref-21\">\n",
      "     <a href=\"#cite_note-21\">\n",
      "      [21]\n",
      "     </a>\n",
      "    </sup>\n",
      "    <sup class=\"reference\" id=\"cite_ref-22\">\n",
      "     <a href=\"#cite_note-22\">\n",
      "      [22]\n",
      "     </a>\n",
      "    </sup>\n",
      "    <a href=\"/wiki/Julia_(programming_language)\" title=\"Julia (programming language)\">\n",
      "     Julia\n",
      "    </a>\n",
      "    ,\n",
      "    <sup class=\"reference\" id=\"cite_ref-Julia_23-0\">\n",
      "     <a href=\"#cite_note-Julia-23\">\n",
      "      [23]\n",
      "     </a>\n",
      "    </sup>\n",
      "    <a href=\"/wiki/Nim_(programming_language)\" title=\"Nim (programming language)\">\n",
      "     Nim\n",
      "    </a>\n",
      "    , Ring,\n",
      "    <sup class=\"reference\" id=\"cite_ref-The_Ring_programming_language_and_other_languages_24-0\">\n",
      "     <a href=\"#cite_note-The_Ring_programming_language_and_other_languages-24\">\n",
      "      [24]\n",
      "     </a>\n",
      "    </sup>\n",
      "    <a href=\"/wiki/Ruby_(programming_language)\" title=\"Ruby (programming language)\">\n",
      "     Ruby\n",
      "    </a>\n",
      "    ,\n",
      "    <sup class=\"reference\" id=\"cite_ref-bini_25-0\">\n",
      "     <a href=\"#cite_note-bini-25\">\n",
      "      [25]\n",
      "     </a>\n",
      "    </sup>\n",
      "    <a href=\"/wiki/Swift_(programming_language)\" title=\"Swift (programming language)\">\n",
      "     Swift\n",
      "    </a>\n",
      "    <sup class=\"reference\" id=\"cite_ref-lattner2014_26-0\">\n",
      "     <a href=\"#cite_note-lattner2014-26\">\n",
      "      [26]\n",
      "     </a>\n",
      "    </sup>\n",
      "   </td>\n",
      "  </tr>\n",
      "  <tr>\n",
      "   <td class=\"hlist\" colspan=\"2\" style=\"text-align:center;border-top: 1px solid #aaa; padding-top: 3px;\">\n",
      "    <ul>\n",
      "     <li>\n",
      "      <a class=\"image\" href=\"/wiki/File:Wikibooks-logo-en-noslogan.svg\">\n",
      "       <img alt=\"\" class=\"noviewer\" data-file-height=\"400\" data-file-width=\"400\" decoding=\"async\" height=\"16\" src=\"//upload.wikimedia.org/wikipedia/commons/thumb/d/df/Wikibooks-logo-en-noslogan.svg/16px-Wikibooks-logo-en-noslogan.svg.png\" srcset=\"//upload.wikimedia.org/wikipedia/commons/thumb/d/df/Wikibooks-logo-en-noslogan.svg/24px-Wikibooks-logo-en-noslogan.svg.png 1.5x, //upload.wikimedia.org/wikipedia/commons/thumb/d/df/Wikibooks-logo-en-noslogan.svg/32px-Wikibooks-logo-en-noslogan.svg.png 2x\" width=\"16\"/>\n",
      "      </a>\n",
      "      <a class=\"extiw\" href=\"https://en.wikibooks.org/wiki/Python_Programming\" title=\"wikibooks:Python Programming\">\n",
      "       Python Programming\n",
      "      </a>\n",
      "      at Wikibooks\n",
      "     </li>\n",
      "    </ul>\n",
      "   </td>\n",
      "  </tr>\n",
      " </tbody>\n",
      "</table>\n",
      "\n"
     ]
    }
   ],
   "source": [
    "my_table = soup.find_all('table')[0]\n",
    "print(my_table.prettify())\n"
   ]
  },
  {
   "cell_type": "code",
   "execution_count": 14,
   "metadata": {},
   "outputs": [
    {
     "data": {
      "text/plain": [
       "<a class=\"image\" href=\"/wiki/File:Python_logo_and_wordmark.svg\"><img alt=\"Python logo and wordmark.svg\" data-file-height=\"144\" data-file-width=\"486\" decoding=\"async\" height=\"59\" src=\"//upload.wikimedia.org/wikipedia/commons/thumb/f/f8/Python_logo_and_wordmark.svg/200px-Python_logo_and_wordmark.svg.png\" srcset=\"//upload.wikimedia.org/wikipedia/commons/thumb/f/f8/Python_logo_and_wordmark.svg/300px-Python_logo_and_wordmark.svg.png 1.5x, //upload.wikimedia.org/wikipedia/commons/thumb/f/f8/Python_logo_and_wordmark.svg/400px-Python_logo_and_wordmark.svg.png 2x\" width=\"200\"/></a>"
      ]
     },
     "metadata": {},
     "output_type": "display_data"
    },
    {
     "data": {
      "text/plain": [
       "'/wiki/File:Python_logo_and_wordmark.svg'"
      ]
     },
     "metadata": {},
     "output_type": "display_data"
    },
    {
     "data": {
      "text/plain": [
       "<a class=\"image\" href=\"/wiki/File:Python_logo_and_wordmark.svg\" style=\"my new style\"><img alt=\"Python logo and wordmark.svg\" data-file-height=\"144\" data-file-width=\"486\" decoding=\"async\" height=\"59\" src=\"//upload.wikimedia.org/wikipedia/commons/thumb/f/f8/Python_logo_and_wordmark.svg/200px-Python_logo_and_wordmark.svg.png\" srcset=\"//upload.wikimedia.org/wikipedia/commons/thumb/f/f8/Python_logo_and_wordmark.svg/300px-Python_logo_and_wordmark.svg.png 1.5x, //upload.wikimedia.org/wikipedia/commons/thumb/f/f8/Python_logo_and_wordmark.svg/400px-Python_logo_and_wordmark.svg.png 2x\" width=\"200\"/></a>"
      ]
     },
     "execution_count": 14,
     "metadata": {},
     "output_type": "execute_result"
    }
   ],
   "source": [
    "# grab tha a tag\n",
    "a_tag = my_table.a\n",
    "\n",
    "display(a_tag)\n",
    "display(a_tag['href'])\n",
    "\n",
    "a_tag['style'] = \"my new style\"\n",
    "\n",
    "a_tag"
   ]
  },
  {
   "cell_type": "code",
   "execution_count": 15,
   "metadata": {},
   "outputs": [
    {
     "data": {
      "text/plain": [
       "<a class=\"image\" href=\"/wiki/File:Python_logo_and_wordmark.svg\" style=\"my new style\"></a>"
      ]
     },
     "metadata": {},
     "output_type": "display_data"
    }
   ],
   "source": [
    "# grab tha a tag\n",
    "tag = my_table.a\n",
    "\n",
    "# remove the string attached to the a tag\n",
    "tag.clear()\n",
    "\n",
    "display(tag)\n"
   ]
  },
  {
   "cell_type": "code",
   "execution_count": 16,
   "metadata": {},
   "outputs": [
    {
     "data": {
      "text/plain": [
       "<th scope=\"row\"><a href=\"/wiki/Programming_paradigm\" title=\"Programming paradigm\">Paradigm</a></th>"
      ]
     },
     "metadata": {},
     "output_type": "display_data"
    }
   ],
   "source": [
    "# grab a table body \n",
    "# display(my_table.tbody)\n",
    "\n",
    "# extract the first table header\n",
    "th_tag = my_table.tbody.th.extract()\n",
    "\n",
    "display(th_tag)"
   ]
  },
  {
   "cell_type": "code",
   "execution_count": 17,
   "metadata": {},
   "outputs": [
    {
     "data": {
      "text/plain": [
       "'Designed\\xa0by'"
      ]
     },
     "metadata": {},
     "output_type": "display_data"
    },
    {
     "name": "stdout",
     "output_type": "stream",
     "text": [
      "Multi-paradigm\n",
      ": \n",
      "functional\n",
      ", \n",
      "imperative\n",
      ", \n",
      "object-oriented\n",
      ", \n",
      "reflective\n",
      "Designed by\n",
      "----------------------------------------\n",
      "Multi-paradigm\n",
      ":\n",
      "functional\n",
      ",\n",
      "imperative\n",
      ",\n",
      "object-oriented\n",
      ",\n",
      "reflective\n",
      "Designed by\n"
     ]
    }
   ],
   "source": [
    "# grab the first string find in the table header tag\n",
    "display(my_table.th.string)\n",
    "\n",
    "# get all string that belong to the table body \n",
    "for string in list(my_table.tbody.strings)[0:10]:\n",
    "    print(string)\n",
    "    \n",
    "print('-'* 40)\n",
    "\n",
    "\n",
    "# get all string that belong to the table body \n",
    "for string in list(my_table.tbody.stripped_strings)[0:10]:\n",
    "    print(string)"
   ]
  },
  {
   "cell_type": "code",
   "execution_count": null,
   "metadata": {},
   "outputs": [],
   "source": []
  }
 ],
 "metadata": {
  "kernelspec": {
   "display_name": "Python 3",
   "language": "python",
   "name": "python3"
  },
  "language_info": {
   "codemirror_mode": {
    "name": "ipython",
    "version": 3
   },
   "file_extension": ".py",
   "mimetype": "text/x-python",
   "name": "python",
   "nbconvert_exporter": "python",
   "pygments_lexer": "ipython3",
   "version": "3.7.3"
  }
 },
 "nbformat": 4,
 "nbformat_minor": 2
}
