{
 "cells": [
  {
   "cell_type": "code",
   "execution_count": 52,
   "metadata": {},
   "outputs": [],
   "source": [
    "from bs4 import BeautifulSoup\n",
    "from urllib.request import Request, urlopen\n",
    "import urllib.request"
   ]
  },
  {
   "cell_type": "code",
   "execution_count": 53,
   "metadata": {},
   "outputs": [],
   "source": [
    "# define the url we want to scrap \n",
    "\n",
    "wiki_url = r\"https://en.wikipedia.org/wiki/Python_(programming_language)\"\n",
    "response_object = urllib.request.urlopen(wiki_url)\n",
    "response_object\n",
    "\n",
    "\n",
    "#create the soup \n",
    "soup = BeautifulSoup(response_object,'html.parser')\n",
    "# display(soup)\n"
   ]
  },
  {
   "cell_type": "code",
   "execution_count": 54,
   "metadata": {},
   "outputs": [
    {
     "data": {
      "text/plain": [
       "<a href=\"/wiki/Wikipedia:Good_articles\" title=\"This is a good article. Follow the link for more information.\"><img alt=\"This is a good article. Follow the link for more information.\" data-file-height=\"185\" data-file-width=\"180\" decoding=\"async\" height=\"20\" src=\"//upload.wikimedia.org/wikipedia/en/thumb/9/94/Symbol_support_vote.svg/19px-Symbol_support_vote.svg.png\" srcset=\"//upload.wikimedia.org/wikipedia/en/thumb/9/94/Symbol_support_vote.svg/29px-Symbol_support_vote.svg.png 1.5x, //upload.wikimedia.org/wikipedia/en/thumb/9/94/Symbol_support_vote.svg/39px-Symbol_support_vote.svg.png 2x\" width=\"19\"/></a>"
      ]
     },
     "execution_count": 54,
     "metadata": {},
     "output_type": "execute_result"
    }
   ],
   "source": [
    "# find the first instance of an 'a' tag\n",
    "link = soup.find('a',href = True)\n",
    "link"
   ]
  },
  {
   "cell_type": "code",
   "execution_count": 55,
   "metadata": {},
   "outputs": [
    {
     "data": {
      "text/plain": [
       "bs4.element.Tag"
      ]
     },
     "metadata": {},
     "output_type": "display_data"
    },
    {
     "data": {
      "text/plain": [
       "'a'"
      ]
     },
     "metadata": {},
     "output_type": "display_data"
    },
    {
     "data": {
      "text/plain": [
       "{'href': '/wiki/Wikipedia:Good_articles',\n",
       " 'title': 'This is a good article. Follow the link for more information.'}"
      ]
     },
     "metadata": {},
     "output_type": "display_data"
    },
    {
     "data": {
      "text/plain": [
       "'/wiki/Wikipedia:Good_articles'"
      ]
     },
     "metadata": {},
     "output_type": "display_data"
    },
    {
     "data": {
      "text/plain": [
       "''"
      ]
     },
     "metadata": {},
     "output_type": "display_data"
    }
   ],
   "source": [
    "# what is the tpye \n",
    "display(type(link))\n",
    "\n",
    "# define the tpye name \n",
    "display(link.name)\n",
    "\n",
    "# get the dictionary of all the attributese\n",
    "display(link.attrs)\n",
    "\n",
    "# get the attribute values\n",
    "display(link['href'])\n",
    "\n",
    "# get the text\n",
    "display(link.text)"
   ]
  },
  {
   "cell_type": "code",
   "execution_count": 56,
   "metadata": {},
   "outputs": [
    {
     "data": {
      "text/plain": [
       "bs4.element.Tag"
      ]
     },
     "metadata": {},
     "output_type": "display_data"
    },
    {
     "data": {
      "text/plain": [
       "1591"
      ]
     },
     "execution_count": 56,
     "metadata": {},
     "output_type": "execute_result"
    }
   ],
   "source": [
    "# find all the 'a' tag on the document \n",
    "links = soup.find_all('a')\n",
    "\n",
    "# define the type \n",
    "display(type(link))\n",
    "        \n",
    "len(links)"
   ]
  },
  {
   "cell_type": "code",
   "execution_count": 57,
   "metadata": {},
   "outputs": [
    {
     "name": "stdout",
     "output_type": "stream",
     "text": [
      "/wiki/Wikipedia:Good_articles\n",
      "This is a good article. Follow the link for more information.\n",
      "#mw-head\n",
      "#p-search\n",
      "/wiki/Python_(disambiguation)\n",
      "Python (disambiguation)\n",
      "/wiki/File:Python_logo_and_wordmark.svg\n",
      "/wiki/Programming_paradigm\n",
      "Programming paradigm\n",
      "/wiki/Multi-paradigm_programming_language\n",
      "Multi-paradigm programming language\n",
      "/wiki/Functional_programming\n",
      "Functional programming\n",
      "/wiki/Imperative_programming\n",
      "Imperative programming\n",
      "/wiki/Object-oriented_programming\n",
      "Object-oriented programming\n"
     ]
    }
   ],
   "source": [
    "# find all the 'a' tag on the document \n",
    "links = soup.find_all('a', href = True)\n",
    "\n",
    "for link in links[0:10]:\n",
    "    print(link['href'])\n",
    "    try:\n",
    "        print(link['title'])\n",
    "    except:\n",
    "        continue"
   ]
  },
  {
   "cell_type": "code",
   "execution_count": 58,
   "metadata": {},
   "outputs": [],
   "source": [
    "# find all the tables and a tags\n",
    "tables_and_a = soup.find_all(['a','table'])\n",
    "\n",
    "table_headers = soup.find_all('th',style=True)\n",
    "\n",
    "wiki_tables = soup.find_all('table',class_='wikitable')\n",
    "\n",
    "# define a function to find the items\n",
    "def list_with_links(tag):\n",
    "    return tag.name == 'li' and len(tag.find_all('a'))>7\n",
    "\n",
    "# list a time with a tag\n",
    "list_with_a = soup.find_all(list_with_links)\n",
    "\n",
    "# display(list_with_a)"
   ]
  },
  {
   "cell_type": "code",
   "execution_count": 59,
   "metadata": {},
   "outputs": [
    {
     "name": "stdout",
     "output_type": "stream",
     "text": [
      "<html>\n",
      " <body>\n",
      "  <a>\n",
      "   <b>\n",
      "    text1\n",
      "   </b>\n",
      "   <c>\n",
      "    text2\n",
      "   </c>\n",
      "  </a>\n",
      " </body>\n",
      "</html>\n"
     ]
    }
   ],
   "source": [
    "# define a simple tree\n",
    "simple_tree = \"\"\"<html><body><a><b>text1</b><c>text2</c></a></body></html>\"\"\"\n",
    "\n",
    "# pass the simple tree into Parser to create a simple soup\n",
    "simple_soup = BeautifulSoup(simple_tree,'html.parser')\n",
    "\n",
    "print(simple_soup.prettify())\n"
   ]
  },
  {
   "cell_type": "code",
   "execution_count": 60,
   "metadata": {},
   "outputs": [
    {
     "data": {
      "text/plain": [
       "[<b>text1</b>, <c>text2</c>]"
      ]
     },
     "metadata": {},
     "output_type": "display_data"
    },
    {
     "data": {
      "text/plain": [
       "<b>text1</b>"
      ]
     },
     "metadata": {},
     "output_type": "display_data"
    },
    {
     "data": {
      "text/plain": [
       "2"
      ]
     },
     "metadata": {},
     "output_type": "display_data"
    },
    {
     "data": {
      "text/plain": [
       "4"
      ]
     },
     "metadata": {},
     "output_type": "display_data"
    }
   ],
   "source": [
    "# create a list of the children of a tag in the simple soup \n",
    "a_content = simple_soup.a.contents\n",
    "\n",
    "display(a_content)\n",
    "\n",
    "# the first child of a tag\n",
    "display(a_content[0])\n",
    "\n",
    "# count the number of elements of both the children and descendants\n",
    "display(len(list(simple_soup.a.children)))\n",
    "display(len(list(simple_soup.a.descendants)))"
   ]
  },
  {
   "cell_type": "code",
   "execution_count": 61,
   "metadata": {},
   "outputs": [
    {
     "data": {
      "text/plain": [
       "<body><a><b>text1</b><c>text2</c></a></body>"
      ]
     },
     "metadata": {},
     "output_type": "display_data"
    },
    {
     "name": "stdout",
     "output_type": "stream",
     "text": [
      "<body><a><b>text1</b><c>text2</c></a></body>\n",
      "<html><body><a><b>text1</b><c>text2</c></a></body></html>\n",
      "<html><body><a><b>text1</b><c>text2</c></a></body></html>\n"
     ]
    }
   ],
   "source": [
    "# get the parent of the a tag\n",
    "display(simple_soup.a.parent)\n",
    "\n",
    "# loop the parents of the a tag \n",
    "for parent in simple_soup.a.parents:\n",
    "    print(parent)"
   ]
  },
  {
   "cell_type": "code",
   "execution_count": 62,
   "metadata": {},
   "outputs": [
    {
     "data": {
      "text/plain": [
       "<b>text1</b>"
      ]
     },
     "metadata": {},
     "output_type": "display_data"
    },
    {
     "data": {
      "text/plain": [
       "<c>text2</c>"
      ]
     },
     "metadata": {},
     "output_type": "display_data"
    },
    {
     "data": {
      "text/plain": [
       "None"
      ]
     },
     "metadata": {},
     "output_type": "display_data"
    }
   ],
   "source": [
    "# display b tag\n",
    "display(simple_soup.b)\n",
    "\n",
    "# dose b has the sibling\n",
    "display(simple_soup.b.next_sibling)\n",
    "display(simple_soup.b.pervious_sibling)"
   ]
  },
  {
   "cell_type": "code",
   "execution_count": 63,
   "metadata": {},
   "outputs": [
    {
     "data": {
      "text/plain": [
       "<body><a><b>text1</b><c>text2</c></a></body>"
      ]
     },
     "metadata": {},
     "output_type": "display_data"
    },
    {
     "data": {
      "text/plain": [
       "<a><b>text1</b><c>text2</c></a>"
      ]
     },
     "metadata": {},
     "output_type": "display_data"
    }
   ],
   "source": [
    "# grab the body\n",
    "display(simple_soup.body)\n",
    "\n",
    "# go to the next element\n",
    "display(simple_soup.body.next_element)"
   ]
  },
  {
   "cell_type": "code",
   "execution_count": 64,
   "metadata": {},
   "outputs": [
    {
     "name": "stdout",
     "output_type": "stream",
     "text": [
      "<table class=\"nowraplinks mw-collapsible autocollapse navbox-inner\" style=\"border-spacing:0;background:transparent;color:inherit\">\n",
      " <tbody>\n",
      "  <tr>\n",
      "   <th class=\"navbox-title\" colspan=\"3\" scope=\"col\">\n",
      "    <div class=\"plainlinks hlist navbar mini\">\n",
      "     <ul>\n",
      "      <li class=\"nv-view\">\n",
      "       <a href=\"/wiki/Template:Python_(programming_language)\" title=\"Template:Python (programming language)\">\n",
      "        <abbr style=\";;background:none transparent;border:none;-moz-box-shadow:none;-webkit-box-shadow:none;box-shadow:none; padding:0;\" title=\"View this template\">\n",
      "         v\n",
      "        </abbr>\n",
      "       </a>\n",
      "      </li>\n",
      "      <li class=\"nv-talk\">\n",
      "       <a href=\"/wiki/Template_talk:Python_(programming_language)\" title=\"Template talk:Python (programming language)\">\n",
      "        <abbr style=\";;background:none transparent;border:none;-moz-box-shadow:none;-webkit-box-shadow:none;box-shadow:none; padding:0;\" title=\"Discuss this template\">\n",
      "         t\n",
      "        </abbr>\n",
      "       </a>\n",
      "      </li>\n",
      "      <li class=\"nv-edit\">\n",
      "       <a class=\"external text\" href=\"https://en.wikipedia.org/w/index.php?title=Template:Python_(programming_language)&amp;action=edit\">\n",
      "        <abbr style=\";;background:none transparent;border:none;-moz-box-shadow:none;-webkit-box-shadow:none;box-shadow:none; padding:0;\" title=\"Edit this template\">\n",
      "         e\n",
      "        </abbr>\n",
      "       </a>\n",
      "      </li>\n",
      "     </ul>\n",
      "    </div>\n",
      "    <div id=\"Python\" style=\"font-size:114%;margin:0 4em\">\n",
      "     <a class=\"mw-selflink selflink\">\n",
      "      Python\n",
      "     </a>\n",
      "    </div>\n",
      "   </th>\n",
      "  </tr>\n",
      "  <tr>\n",
      "   <th class=\"navbox-group\" scope=\"row\" style=\"width:1%\">\n",
      "    <a href=\"/wiki/Programming_language_implementation\" title=\"Programming language implementation\">\n",
      "     Implementations\n",
      "    </a>\n",
      "   </th>\n",
      "   <td class=\"navbox-list navbox-odd hlist\" style=\"text-align:left;border-left-width:2px;border-left-style:solid;width:100%;padding:0px\">\n",
      "    <div style=\"padding:0em 0.25em\">\n",
      "     <ul>\n",
      "      <li>\n",
      "       <a href=\"/wiki/CircuitPython\" title=\"CircuitPython\">\n",
      "        CircuitPython\n",
      "       </a>\n",
      "      </li>\n",
      "      <li>\n",
      "       <a href=\"/wiki/CLPython\" title=\"CLPython\">\n",
      "        CLPython\n",
      "       </a>\n",
      "      </li>\n",
      "      <li>\n",
      "       <a href=\"/wiki/CPython\" title=\"CPython\">\n",
      "        CPython\n",
      "       </a>\n",
      "      </li>\n",
      "      <li>\n",
      "       <a href=\"/wiki/Cython\" title=\"Cython\">\n",
      "        Cython\n",
      "       </a>\n",
      "      </li>\n",
      "      <li>\n",
      "       <a href=\"/wiki/MicroPython\" title=\"MicroPython\">\n",
      "        MicroPython\n",
      "       </a>\n",
      "      </li>\n",
      "      <li>\n",
      "       <a href=\"/wiki/Numba\" title=\"Numba\">\n",
      "        Numba\n",
      "       </a>\n",
      "      </li>\n",
      "      <li>\n",
      "       <a href=\"/wiki/IronPython\" title=\"IronPython\">\n",
      "        IronPython\n",
      "       </a>\n",
      "      </li>\n",
      "      <li>\n",
      "       <a href=\"/wiki/Jython\" title=\"Jython\">\n",
      "        Jython\n",
      "       </a>\n",
      "      </li>\n",
      "      <li>\n",
      "       <a href=\"/wiki/Psyco\" title=\"Psyco\">\n",
      "        Psyco\n",
      "       </a>\n",
      "      </li>\n",
      "      <li>\n",
      "       <a href=\"/wiki/PyPy\" title=\"PyPy\">\n",
      "        PyPy\n",
      "       </a>\n",
      "      </li>\n",
      "      <li>\n",
      "       <a href=\"/wiki/Python_for_S60\" title=\"Python for S60\">\n",
      "        Python for S60\n",
      "       </a>\n",
      "      </li>\n",
      "      <li>\n",
      "       <a href=\"/wiki/Shed_Skin\" title=\"Shed Skin\">\n",
      "        Shed Skin\n",
      "       </a>\n",
      "      </li>\n",
      "      <li>\n",
      "       <a href=\"/wiki/Stackless_Python\" title=\"Stackless Python\">\n",
      "        Stackless Python\n",
      "       </a>\n",
      "      </li>\n",
      "      <li>\n",
      "       <a class=\"mw-redirect\" href=\"/wiki/Unladen_Swallow\" title=\"Unladen Swallow\">\n",
      "        Unladen Swallow\n",
      "       </a>\n",
      "      </li>\n",
      "      <li>\n",
      "       <i>\n",
      "        <a href=\"/wiki/List_of_Python_software#Python_implementations\" title=\"List of Python software\">\n",
      "         more\n",
      "        </a>\n",
      "        ...\n",
      "       </i>\n",
      "      </li>\n",
      "     </ul>\n",
      "    </div>\n",
      "   </td>\n",
      "   <td class=\"navbox-image\" rowspan=\"3\" style=\"width:1px;padding:0px 0px 0px 2px\">\n",
      "    <div>\n",
      "     <a class=\"image\" href=\"/wiki/File:Python-logo-notext.svg\">\n",
      "      <img alt=\"Python-logo-notext.svg\" data-file-height=\"110\" data-file-width=\"110\" decoding=\"async\" height=\"55\" src=\"//upload.wikimedia.org/wikipedia/commons/thumb/c/c3/Python-logo-notext.svg/55px-Python-logo-notext.svg.png\" srcset=\"//upload.wikimedia.org/wikipedia/commons/thumb/c/c3/Python-logo-notext.svg/83px-Python-logo-notext.svg.png 1.5x, //upload.wikimedia.org/wikipedia/commons/thumb/c/c3/Python-logo-notext.svg/110px-Python-logo-notext.svg.png 2x\" width=\"55\"/>\n",
      "     </a>\n",
      "    </div>\n",
      "   </td>\n",
      "  </tr>\n",
      "  <tr>\n",
      "   <th class=\"navbox-group\" scope=\"row\" style=\"width:1%\">\n",
      "    <a href=\"/wiki/Integrated_development_environment\" title=\"Integrated development environment\">\n",
      "     IDE\n",
      "    </a>\n",
      "   </th>\n",
      "   <td class=\"navbox-list navbox-even hlist\" style=\"text-align:left;border-left-width:2px;border-left-style:solid;width:100%;padding:0px\">\n",
      "    <div style=\"padding:0em 0.25em\">\n",
      "     <ul>\n",
      "      <li>\n",
      "       <a href=\"/wiki/Comparison_of_integrated_development_environments#Python\" title=\"Comparison of integrated development environments\">\n",
      "        Boa\n",
      "       </a>\n",
      "      </li>\n",
      "      <li>\n",
      "       <a class=\"mw-redirect\" href=\"/wiki/Eric_Python_IDE\" title=\"Eric Python IDE\">\n",
      "        Eric Python IDE\n",
      "       </a>\n",
      "      </li>\n",
      "      <li>\n",
      "       <a class=\"mw-redirect\" href=\"/wiki/IDLE_(Python)\" title=\"IDLE (Python)\">\n",
      "        IDLE\n",
      "       </a>\n",
      "      </li>\n",
      "      <li>\n",
      "       <a href=\"/wiki/PyCharm\" title=\"PyCharm\">\n",
      "        PyCharm\n",
      "       </a>\n",
      "      </li>\n",
      "      <li>\n",
      "       <a href=\"/wiki/PyDev\" title=\"PyDev\">\n",
      "        PyDev\n",
      "       </a>\n",
      "      </li>\n",
      "      <li>\n",
      "       <a href=\"/wiki/Stani%27s_Python_Editor\" title=\"Stani's Python Editor\">\n",
      "        SPE\n",
      "       </a>\n",
      "      </li>\n",
      "      <li>\n",
      "       <a href=\"/wiki/Ninja-IDE\" title=\"Ninja-IDE\">\n",
      "        Ninja-IDE\n",
      "       </a>\n",
      "      </li>\n",
      "      <li>\n",
      "       <i>\n",
      "        <a class=\"mw-redirect\" href=\"/wiki/List_of_integrated_development_environments_for_Python#Python\" title=\"List of integrated development environments for Python\">\n",
      "         more\n",
      "        </a>\n",
      "        ...\n",
      "       </i>\n",
      "      </li>\n",
      "     </ul>\n",
      "    </div>\n",
      "   </td>\n",
      "  </tr>\n",
      "  <tr>\n",
      "   <th class=\"navbox-group\" scope=\"row\" style=\"width:1%\">\n",
      "    Topics\n",
      "   </th>\n",
      "   <td class=\"navbox-list navbox-odd hlist\" style=\"text-align:left;border-left-width:2px;border-left-style:solid;width:100%;padding:0px\">\n",
      "    <div style=\"padding:0em 0.25em\">\n",
      "     <ul>\n",
      "      <li>\n",
      "       <a href=\"/wiki/Web_Server_Gateway_Interface\" title=\"Web Server Gateway Interface\">\n",
      "        WSGI\n",
      "       </a>\n",
      "      </li>\n",
      "     </ul>\n",
      "    </div>\n",
      "   </td>\n",
      "  </tr>\n",
      "  <tr>\n",
      "   <td class=\"navbox-abovebelow hlist\" colspan=\"3\">\n",
      "    <div>\n",
      "     <ul>\n",
      "      <li>\n",
      "       <a href=\"/wiki/List_of_Python_software\" title=\"List of Python software\">\n",
      "        software (list)\n",
      "       </a>\n",
      "      </li>\n",
      "      <li>\n",
      "       <a href=\"/wiki/Python_Software_Foundation\" title=\"Python Software Foundation\">\n",
      "        Python Software Foundation\n",
      "       </a>\n",
      "      </li>\n",
      "      <li>\n",
      "       <a href=\"/wiki/Python_Conference\" title=\"Python Conference\">\n",
      "        PyCon\n",
      "       </a>\n",
      "      </li>\n",
      "     </ul>\n",
      "    </div>\n",
      "   </td>\n",
      "  </tr>\n",
      " </tbody>\n",
      "</table>\n"
     ]
    }
   ],
   "source": [
    "my_table = soup.find_all('table')[3]\n",
    "print(my_table.prettify())\n"
   ]
  },
  {
   "cell_type": "code",
   "execution_count": 65,
   "metadata": {},
   "outputs": [
    {
     "data": {
      "text/plain": [
       "<a href=\"/wiki/Template:Python_(programming_language)\" title=\"Template:Python (programming language)\"><abbr style=\";;background:none transparent;border:none;-moz-box-shadow:none;-webkit-box-shadow:none;box-shadow:none; padding:0;\" title=\"View this template\">v</abbr></a>"
      ]
     },
     "metadata": {},
     "output_type": "display_data"
    },
    {
     "data": {
      "text/plain": [
       "'/wiki/Template:Python_(programming_language)'"
      ]
     },
     "metadata": {},
     "output_type": "display_data"
    },
    {
     "data": {
      "text/plain": [
       "<a href=\"/wiki/Template:Python_(programming_language)\" style=\"my new style\" title=\"Template:Python (programming language)\"><abbr style=\";;background:none transparent;border:none;-moz-box-shadow:none;-webkit-box-shadow:none;box-shadow:none; padding:0;\" title=\"View this template\">v</abbr></a>"
      ]
     },
     "execution_count": 65,
     "metadata": {},
     "output_type": "execute_result"
    }
   ],
   "source": [
    "# grab tha a tag\n",
    "a_tag = my_table.a\n",
    "\n",
    "display(a_tag)\n",
    "display(a_tag['href'])\n",
    "\n",
    "a_tag['style'] = \"my new style\"\n",
    "\n",
    "a_tag"
   ]
  },
  {
   "cell_type": "code",
   "execution_count": 66,
   "metadata": {},
   "outputs": [
    {
     "data": {
      "text/plain": [
       "<a href=\"/wiki/Template:Python_(programming_language)\" style=\"my new style\" title=\"Template:Python (programming language)\"></a>"
      ]
     },
     "metadata": {},
     "output_type": "display_data"
    }
   ],
   "source": [
    "# grab tha a tag\n",
    "tag = my_table.a\n",
    "\n",
    "# remove the string attached to the a tag\n",
    "tag.clear()\n",
    "\n",
    "display(tag)\n"
   ]
  },
  {
   "cell_type": "code",
   "execution_count": 67,
   "metadata": {},
   "outputs": [
    {
     "data": {
      "text/plain": [
       "<th class=\"navbox-title\" colspan=\"3\" scope=\"col\"><div class=\"plainlinks hlist navbar mini\"><ul><li class=\"nv-view\"><a href=\"/wiki/Template:Python_(programming_language)\" style=\"my new style\" title=\"Template:Python (programming language)\"></a></li><li class=\"nv-talk\"><a href=\"/wiki/Template_talk:Python_(programming_language)\" title=\"Template talk:Python (programming language)\"><abbr style=\";;background:none transparent;border:none;-moz-box-shadow:none;-webkit-box-shadow:none;box-shadow:none; padding:0;\" title=\"Discuss this template\">t</abbr></a></li><li class=\"nv-edit\"><a class=\"external text\" href=\"https://en.wikipedia.org/w/index.php?title=Template:Python_(programming_language)&amp;action=edit\"><abbr style=\";;background:none transparent;border:none;-moz-box-shadow:none;-webkit-box-shadow:none;box-shadow:none; padding:0;\" title=\"Edit this template\">e</abbr></a></li></ul></div><div id=\"Python\" style=\"font-size:114%;margin:0 4em\"><a class=\"mw-selflink selflink\">Python</a></div></th>"
      ]
     },
     "metadata": {},
     "output_type": "display_data"
    }
   ],
   "source": [
    "# grab a table body \n",
    "# display(my_table.tbody)\n",
    "\n",
    "# extract the first table header\n",
    "th_tag = my_table.tbody.th.extract()\n",
    "\n",
    "display(th_tag)"
   ]
  },
  {
   "cell_type": "code",
   "execution_count": 68,
   "metadata": {},
   "outputs": [
    {
     "data": {
      "text/plain": [
       "'Implementations'"
      ]
     },
     "metadata": {},
     "output_type": "display_data"
    },
    {
     "name": "stdout",
     "output_type": "stream",
     "text": [
      "Implementations\n",
      "\n",
      "\n",
      "CircuitPython\n",
      "\n",
      "\n",
      "CLPython\n",
      "\n",
      "\n",
      "CPython\n",
      "\n",
      "\n",
      "Cython\n",
      "\n",
      "\n",
      "----------------------------------------\n",
      "Implementations\n",
      "CircuitPython\n",
      "CLPython\n",
      "CPython\n",
      "Cython\n",
      "MicroPython\n",
      "Numba\n",
      "IronPython\n",
      "Jython\n",
      "Psyco\n"
     ]
    }
   ],
   "source": [
    "# grab the first string find in the table header tag\n",
    "display(my_table.th.string)\n",
    "\n",
    "# get all string that belong to the table body \n",
    "for string in list(my_table.tbody.strings)[0:10]:\n",
    "    print(string)\n",
    "    \n",
    "print('-'* 40)\n",
    "\n",
    "\n",
    "# get all string that belong to the table body \n",
    "for string in list(my_table.tbody.stripped_strings)[0:10]:\n",
    "    print(string)"
   ]
  },
  {
   "cell_type": "code",
   "execution_count": null,
   "metadata": {},
   "outputs": [],
   "source": []
  }
 ],
 "metadata": {
  "kernelspec": {
   "display_name": "Python 3",
   "language": "python",
   "name": "python3"
  },
  "language_info": {
   "codemirror_mode": {
    "name": "ipython",
    "version": 3
   },
   "file_extension": ".py",
   "mimetype": "text/x-python",
   "name": "python",
   "nbconvert_exporter": "python",
   "pygments_lexer": "ipython3",
   "version": "3.7.3"
  }
 },
 "nbformat": 4,
 "nbformat_minor": 2
}
