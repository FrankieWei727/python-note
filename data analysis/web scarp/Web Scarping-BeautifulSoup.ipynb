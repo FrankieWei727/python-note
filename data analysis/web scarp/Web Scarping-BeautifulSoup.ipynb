{
 "cells": [
  {
   "cell_type": "code",
   "execution_count": 91,
   "metadata": {},
   "outputs": [],
   "source": [
    "from bs4 import BeautifulSoup\n",
    "from urllib.request import Request, urlopen\n",
    "import urllib.request"
   ]
  },
  {
   "cell_type": "code",
   "execution_count": 92,
   "metadata": {},
   "outputs": [],
   "source": [
    "# define the url we want to scrap \n",
    "\n",
    "wiki_url = r\"https://en.wikipedia.org/wiki/Python_(programming_language)\"\n",
    "response_object = urllib.request.urlopen(wiki_url)\n",
    "response_object\n",
    "\n",
    "\n",
    "#create the soup \n",
    "soup = BeautifulSoup(response_object,'html.parser')\n",
    "# display(soup)\n"
   ]
  },
  {
   "cell_type": "code",
   "execution_count": 93,
   "metadata": {},
   "outputs": [
    {
     "data": {
      "text/plain": [
       "<a href=\"/wiki/Wikipedia:Good_articles\" title=\"This is a good article. Follow the link for more information.\"><img alt=\"This is a good article. Follow the link for more information.\" data-file-height=\"185\" data-file-width=\"180\" decoding=\"async\" height=\"20\" src=\"//upload.wikimedia.org/wikipedia/en/thumb/9/94/Symbol_support_vote.svg/19px-Symbol_support_vote.svg.png\" srcset=\"//upload.wikimedia.org/wikipedia/en/thumb/9/94/Symbol_support_vote.svg/29px-Symbol_support_vote.svg.png 1.5x, //upload.wikimedia.org/wikipedia/en/thumb/9/94/Symbol_support_vote.svg/39px-Symbol_support_vote.svg.png 2x\" width=\"19\"/></a>"
      ]
     },
     "execution_count": 93,
     "metadata": {},
     "output_type": "execute_result"
    }
   ],
   "source": [
    "# find the first instance of an 'a' tag\n",
    "link = soup.find('a',href = True)\n",
    "link"
   ]
  },
  {
   "cell_type": "code",
   "execution_count": 94,
   "metadata": {},
   "outputs": [
    {
     "data": {
      "text/plain": [
       "bs4.element.Tag"
      ]
     },
     "metadata": {},
     "output_type": "display_data"
    },
    {
     "data": {
      "text/plain": [
       "'a'"
      ]
     },
     "metadata": {},
     "output_type": "display_data"
    },
    {
     "data": {
      "text/plain": [
       "{'href': '/wiki/Wikipedia:Good_articles',\n",
       " 'title': 'This is a good article. Follow the link for more information.'}"
      ]
     },
     "metadata": {},
     "output_type": "display_data"
    },
    {
     "data": {
      "text/plain": [
       "'/wiki/Wikipedia:Good_articles'"
      ]
     },
     "metadata": {},
     "output_type": "display_data"
    },
    {
     "data": {
      "text/plain": [
       "''"
      ]
     },
     "metadata": {},
     "output_type": "display_data"
    }
   ],
   "source": [
    "# what is the tpye \n",
    "display(type(link))\n",
    "\n",
    "# define the tpye name \n",
    "display(link.name)\n",
    "\n",
    "# get the dictionary of all the attributese\n",
    "display(link.attrs)\n",
    "\n",
    "# get the attribute values\n",
    "display(link['href'])\n",
    "\n",
    "# get the text\n",
    "display(link.text)"
   ]
  },
  {
   "cell_type": "code",
   "execution_count": 95,
   "metadata": {},
   "outputs": [
    {
     "data": {
      "text/plain": [
       "bs4.element.Tag"
      ]
     },
     "metadata": {},
     "output_type": "display_data"
    },
    {
     "data": {
      "text/plain": [
       "1591"
      ]
     },
     "execution_count": 95,
     "metadata": {},
     "output_type": "execute_result"
    }
   ],
   "source": [
    "# find all the 'a' tag on the document \n",
    "links = soup.find_all('a')\n",
    "\n",
    "# define the type \n",
    "display(type(link))\n",
    "        \n",
    "len(links)"
   ]
  },
  {
   "cell_type": "code",
   "execution_count": 96,
   "metadata": {},
   "outputs": [
    {
     "name": "stdout",
     "output_type": "stream",
     "text": [
      "/wiki/Wikipedia:Good_articles\n",
      "This is a good article. Follow the link for more information.\n",
      "#mw-head\n",
      "#p-search\n",
      "/wiki/Python_(disambiguation)\n",
      "Python (disambiguation)\n",
      "/wiki/File:Python_logo_and_wordmark.svg\n",
      "/wiki/Programming_paradigm\n",
      "Programming paradigm\n",
      "/wiki/Multi-paradigm_programming_language\n",
      "Multi-paradigm programming language\n",
      "/wiki/Functional_programming\n",
      "Functional programming\n",
      "/wiki/Imperative_programming\n",
      "Imperative programming\n",
      "/wiki/Object-oriented_programming\n",
      "Object-oriented programming\n"
     ]
    }
   ],
   "source": [
    "# find all the 'a' tag on the document \n",
    "links = soup.find_all('a', href = True)\n",
    "\n",
    "for link in links[0:10]:\n",
    "    print(link['href'])\n",
    "    try:\n",
    "        print(link['title'])\n",
    "    except:\n",
    "        continue"
   ]
  },
  {
   "cell_type": "code",
   "execution_count": 97,
   "metadata": {},
   "outputs": [],
   "source": [
    "# find all the tables and a tags\n",
    "tables_and_a = soup.find_all(['a','table'])\n",
    "\n",
    "table_headers = soup.find_all('th',style=True)\n",
    "\n",
    "wiki_tables = soup.find_all('table',class_='wikitable')\n",
    "\n",
    "# define a function to find the items\n",
    "def list_with_links(tag):\n",
    "    return tag.name == 'li' and len(tag.find_all('a'))>7\n",
    "\n",
    "# list a time with a tag\n",
    "list_with_a = soup.find_all(list_with_links)\n",
    "\n",
    "# display(list_with_a)"
   ]
  },
  {
   "cell_type": "code",
   "execution_count": 98,
   "metadata": {},
   "outputs": [
    {
     "name": "stdout",
     "output_type": "stream",
     "text": [
      "<html>\n",
      " <body>\n",
      "  <a>\n",
      "   <b>\n",
      "    text1\n",
      "   </b>\n",
      "   <c>\n",
      "    text2\n",
      "   </c>\n",
      "  </a>\n",
      " </body>\n",
      "</html>\n"
     ]
    }
   ],
   "source": [
    "# define a simple tree\n",
    "simple_tree = \"\"\"<html><body><a><b>text1</b><c>text2</c></a></body></html>\"\"\"\n",
    "\n",
    "# pass the simple tree into Parser to create a simple soup\n",
    "simple_soup = BeautifulSoup(simple_tree,'html.parser')\n",
    "\n",
    "print(simple_soup.prettify())\n"
   ]
  },
  {
   "cell_type": "code",
   "execution_count": 99,
   "metadata": {},
   "outputs": [
    {
     "data": {
      "text/plain": [
       "[<b>text1</b>, <c>text2</c>]"
      ]
     },
     "metadata": {},
     "output_type": "display_data"
    },
    {
     "data": {
      "text/plain": [
       "<b>text1</b>"
      ]
     },
     "metadata": {},
     "output_type": "display_data"
    },
    {
     "data": {
      "text/plain": [
       "2"
      ]
     },
     "metadata": {},
     "output_type": "display_data"
    },
    {
     "data": {
      "text/plain": [
       "4"
      ]
     },
     "metadata": {},
     "output_type": "display_data"
    }
   ],
   "source": [
    "# create a list of the children of a tag in the simple soup \n",
    "a_content = simple_soup.a.contents\n",
    "\n",
    "display(a_content)\n",
    "\n",
    "# the first child of a tag\n",
    "display(a_content[0])\n",
    "\n",
    "# count the number of elements of both the children and descendants\n",
    "display(len(list(simple_soup.a.children)))\n",
    "display(len(list(simple_soup.a.descendants)))"
   ]
  },
  {
   "cell_type": "code",
   "execution_count": 100,
   "metadata": {},
   "outputs": [
    {
     "data": {
      "text/plain": [
       "<body><a><b>text1</b><c>text2</c></a></body>"
      ]
     },
     "metadata": {},
     "output_type": "display_data"
    },
    {
     "name": "stdout",
     "output_type": "stream",
     "text": [
      "<body><a><b>text1</b><c>text2</c></a></body>\n",
      "<html><body><a><b>text1</b><c>text2</c></a></body></html>\n",
      "<html><body><a><b>text1</b><c>text2</c></a></body></html>\n"
     ]
    }
   ],
   "source": [
    "# get the parent of the a tag\n",
    "display(simple_soup.a.parent)\n",
    "\n",
    "# loop the parents of the a tag \n",
    "for parent in simple_soup.a.parents:\n",
    "    print(parent)"
   ]
  },
  {
   "cell_type": "code",
   "execution_count": 101,
   "metadata": {},
   "outputs": [
    {
     "data": {
      "text/plain": [
       "<b>text1</b>"
      ]
     },
     "metadata": {},
     "output_type": "display_data"
    },
    {
     "data": {
      "text/plain": [
       "<c>text2</c>"
      ]
     },
     "metadata": {},
     "output_type": "display_data"
    },
    {
     "data": {
      "text/plain": [
       "None"
      ]
     },
     "metadata": {},
     "output_type": "display_data"
    }
   ],
   "source": [
    "# display b tag\n",
    "display(simple_soup.b)\n",
    "\n",
    "# dose b has the sibling\n",
    "display(simple_soup.b.next_sibling)\n",
    "display(simple_soup.b.pervious_sibling)"
   ]
  },
  {
   "cell_type": "code",
   "execution_count": 102,
   "metadata": {},
   "outputs": [
    {
     "data": {
      "text/plain": [
       "<body><a><b>text1</b><c>text2</c></a></body>"
      ]
     },
     "metadata": {},
     "output_type": "display_data"
    },
    {
     "data": {
      "text/plain": [
       "<a><b>text1</b><c>text2</c></a>"
      ]
     },
     "metadata": {},
     "output_type": "display_data"
    }
   ],
   "source": [
    "# grab the body\n",
    "display(simple_soup.body)\n",
    "\n",
    "# go to the next element\n",
    "display(simple_soup.body.next_element)"
   ]
  },
  {
   "cell_type": "code",
   "execution_count": 103,
   "metadata": {},
   "outputs": [
    {
     "name": "stdout",
     "output_type": "stream",
     "text": [
      "<table class=\"nowraplinks hlist mw-collapsible autocollapse navbox-inner\" style=\"border-spacing:0;background:transparent;color:inherit\">\n",
      " <tbody>\n",
      "  <tr>\n",
      "   <th class=\"navbox-title\" colspan=\"2\" scope=\"col\">\n",
      "    <div class=\"plainlinks hlist navbar mini\">\n",
      "     <ul>\n",
      "      <li class=\"nv-view\">\n",
      "       <a href=\"/wiki/Template:FOSS\" title=\"Template:FOSS\">\n",
      "        <abbr style=\";;background:none transparent;border:none;-moz-box-shadow:none;-webkit-box-shadow:none;box-shadow:none; padding:0;\" title=\"View this template\">\n",
      "         v\n",
      "        </abbr>\n",
      "       </a>\n",
      "      </li>\n",
      "      <li class=\"nv-talk\">\n",
      "       <a href=\"/wiki/Template_talk:FOSS\" title=\"Template talk:FOSS\">\n",
      "        <abbr style=\";;background:none transparent;border:none;-moz-box-shadow:none;-webkit-box-shadow:none;box-shadow:none; padding:0;\" title=\"Discuss this template\">\n",
      "         t\n",
      "        </abbr>\n",
      "       </a>\n",
      "      </li>\n",
      "      <li class=\"nv-edit\">\n",
      "       <a class=\"external text\" href=\"https://en.wikipedia.org/w/index.php?title=Template:FOSS&amp;action=edit\">\n",
      "        <abbr style=\";;background:none transparent;border:none;-moz-box-shadow:none;-webkit-box-shadow:none;box-shadow:none; padding:0;\" title=\"Edit this template\">\n",
      "         e\n",
      "        </abbr>\n",
      "       </a>\n",
      "      </li>\n",
      "     </ul>\n",
      "    </div>\n",
      "    <div id=\"Free_and_open-source_software\" style=\"font-size:114%;margin:0 4em\">\n",
      "     <a href=\"/wiki/Free_and_open-source_software\" title=\"Free and open-source software\">\n",
      "      Free and open-source software\n",
      "     </a>\n",
      "    </div>\n",
      "   </th>\n",
      "  </tr>\n",
      "  <tr>\n",
      "   <th class=\"navbox-group\" scope=\"row\" style=\"width:1%\">\n",
      "    General\n",
      "   </th>\n",
      "   <td class=\"navbox-list navbox-odd\" style=\"text-align:left;border-left-width:2px;border-left-style:solid;width:100%;padding:0px\">\n",
      "    <div style=\"padding:0em 0.25em\">\n",
      "     <ul>\n",
      "      <li>\n",
      "       <a href=\"/wiki/Alternative_terms_for_free_software\" title=\"Alternative terms for free software\">\n",
      "        Alternative terms for free software\n",
      "       </a>\n",
      "      </li>\n",
      "      <li>\n",
      "       <a href=\"/wiki/Comparison_of_open-source_and_closed-source_software\" title=\"Comparison of open-source and closed-source software\">\n",
      "        Comparison of open-source and closed-source software\n",
      "       </a>\n",
      "      </li>\n",
      "      <li>\n",
      "       <a href=\"/wiki/Comparison_of_source-code-hosting_facilities\" title=\"Comparison of source-code-hosting facilities\">\n",
      "        Comparison of source-code-hosting facilities\n",
      "       </a>\n",
      "      </li>\n",
      "      <li>\n",
      "       <a href=\"/wiki/Free_software\" title=\"Free software\">\n",
      "        Free software\n",
      "       </a>\n",
      "      </li>\n",
      "      <li>\n",
      "       <a href=\"/wiki/List_of_free_software_project_directories\" title=\"List of free software project directories\">\n",
      "        Free software project directories\n",
      "       </a>\n",
      "      </li>\n",
      "      <li>\n",
      "       <a href=\"/wiki/Gratis_versus_libre\" title=\"Gratis versus libre\">\n",
      "        Gratis versus libre\n",
      "       </a>\n",
      "      </li>\n",
      "      <li>\n",
      "       <a href=\"/wiki/Long-term_support\" title=\"Long-term support\">\n",
      "        Long-term support\n",
      "       </a>\n",
      "      </li>\n",
      "      <li>\n",
      "       <a href=\"/wiki/Open-source_software\" title=\"Open-source software\">\n",
      "        Open-source software\n",
      "       </a>\n",
      "      </li>\n",
      "      <li>\n",
      "       <a href=\"/wiki/Open-source_software_development\" title=\"Open-source software development\">\n",
      "        Open-source software development\n",
      "       </a>\n",
      "      </li>\n",
      "      <li>\n",
      "       <a href=\"/wiki/Outline_of_free_software\" title=\"Outline of free software\">\n",
      "        Outline\n",
      "       </a>\n",
      "      </li>\n",
      "     </ul>\n",
      "    </div>\n",
      "   </td>\n",
      "  </tr>\n",
      "  <tr>\n",
      "   <th class=\"navbox-group\" scope=\"row\" style=\"width:1%\">\n",
      "    <a href=\"/wiki/List_of_free_and_open-source_software_packages\" title=\"List of free and open-source software packages\">\n",
      "     Software\n",
      "     <br/>\n",
      "     packages\n",
      "    </a>\n",
      "   </th>\n",
      "   <td class=\"navbox-list navbox-even\" style=\"text-align:left;border-left-width:2px;border-left-style:solid;width:100%;padding:0px\">\n",
      "    <div style=\"padding:0em 0.25em\">\n",
      "     <ul>\n",
      "      <li>\n",
      "       <a href=\"/wiki/Comparison_of_free_software_for_audio\" title=\"Comparison of free software for audio\">\n",
      "        Audio\n",
      "       </a>\n",
      "      </li>\n",
      "      <li>\n",
      "       <a href=\"/wiki/List_of_open-source_bioinformatics_software\" title=\"List of open-source bioinformatics software\">\n",
      "        Bioinformatics\n",
      "       </a>\n",
      "      </li>\n",
      "      <li>\n",
      "       <a href=\"/wiki/List_of_open-source_codecs\" title=\"List of open-source codecs\">\n",
      "        Codecs\n",
      "       </a>\n",
      "      </li>\n",
      "      <li>\n",
      "       <a href=\"/wiki/List_of_collaborative_software#Open_source_software\" title=\"List of collaborative software\">\n",
      "        Collaboration\n",
      "       </a>\n",
      "      </li>\n",
      "      <li>\n",
      "       <a href=\"/wiki/Comparison_of_open-source_configuration_management_software\" title=\"Comparison of open-source configuration management software\">\n",
      "        Configuration management\n",
      "       </a>\n",
      "      </li>\n",
      "      <li>\n",
      "       <a href=\"/wiki/Device_driver#Open_drivers\" title=\"Device driver\">\n",
      "        Device drivers\n",
      "       </a>\n",
      "       <ul>\n",
      "        <li>\n",
      "         <a href=\"/wiki/Free_and_open-source_graphics_device_driver\" title=\"Free and open-source graphics device driver\">\n",
      "          Graphics\n",
      "         </a>\n",
      "        </li>\n",
      "        <li>\n",
      "         <a href=\"/wiki/Comparison_of_open-source_wireless_drivers\" title=\"Comparison of open-source wireless drivers\">\n",
      "          Wireless\n",
      "         </a>\n",
      "        </li>\n",
      "       </ul>\n",
      "      </li>\n",
      "      <li>\n",
      "       <a href=\"/wiki/Comparison_of_free_geophysics_software\" title=\"Comparison of free geophysics software\">\n",
      "        Geophysics\n",
      "       </a>\n",
      "      </li>\n",
      "      <li>\n",
      "       <a href=\"/wiki/List_of_open-source_health_software\" title=\"List of open-source health software\">\n",
      "        Health\n",
      "       </a>\n",
      "      </li>\n",
      "      <li>\n",
      "       <a href=\"/wiki/List_of_open-source_software_for_mathematics\" title=\"List of open-source software for mathematics\">\n",
      "        Mathematics\n",
      "       </a>\n",
      "      </li>\n",
      "      <li>\n",
      "       <a href=\"/wiki/Comparison_of_open-source_operating_systems\" title=\"Comparison of open-source operating systems\">\n",
      "        Operating systems\n",
      "       </a>\n",
      "      </li>\n",
      "      <li>\n",
      "       <a href=\"/wiki/Comparison_of_open-source_programming_language_licensing\" title=\"Comparison of open-source programming language licensing\">\n",
      "        Programming languages\n",
      "       </a>\n",
      "      </li>\n",
      "      <li>\n",
      "       <a href=\"/wiki/List_of_open-source_routing_platforms\" title=\"List of open-source routing platforms\">\n",
      "        Routing\n",
      "       </a>\n",
      "      </li>\n",
      "      <li>\n",
      "       <a class=\"mw-redirect\" href=\"/wiki/List_of_statistical_packages#Open-source_statistical_packages\" title=\"List of statistical packages\">\n",
      "        Statistics\n",
      "       </a>\n",
      "      </li>\n",
      "      <li>\n",
      "       <a href=\"/wiki/List_of_free_television_software\" title=\"List of free television software\">\n",
      "        Television\n",
      "       </a>\n",
      "      </li>\n",
      "      <li>\n",
      "       <a href=\"/wiki/List_of_open-source_video_games\" title=\"List of open-source video games\">\n",
      "        Video games\n",
      "       </a>\n",
      "      </li>\n",
      "      <li>\n",
      "       <a href=\"/wiki/List_of_free_and_open-source_web_applications\" title=\"List of free and open-source web applications\">\n",
      "        Web applications\n",
      "       </a>\n",
      "       <ul>\n",
      "        <li>\n",
      "         <a href=\"/wiki/List_of_content_management_systems#Open_source_software\" title=\"List of content management systems\">\n",
      "          Content management systems\n",
      "         </a>\n",
      "        </li>\n",
      "        <li>\n",
      "         <a href=\"/wiki/Comparison_of_shopping_cart_software\" title=\"Comparison of shopping cart software\">\n",
      "          E-commerce\n",
      "         </a>\n",
      "        </li>\n",
      "       </ul>\n",
      "      </li>\n",
      "      <li>\n",
      "       <a href=\"/wiki/List_of_word_processors#Free_and_open-source_software\" title=\"List of word processors\">\n",
      "        Word processors\n",
      "       </a>\n",
      "      </li>\n",
      "      <li>\n",
      "       <a href=\"/wiki/List_of_free_and_open-source_Android_applications\" title=\"List of free and open-source Android applications\">\n",
      "        Android apps\n",
      "       </a>\n",
      "      </li>\n",
      "      <li>\n",
      "       <a href=\"/wiki/List_of_free_and_open-source_iOS_applications\" title=\"List of free and open-source iOS applications\">\n",
      "        iOS apps\n",
      "       </a>\n",
      "      </li>\n",
      "      <li>\n",
      "       <a href=\"/wiki/List_of_commercial_open-source_applications_and_services\" title=\"List of commercial open-source applications and services\">\n",
      "        Commercial\n",
      "       </a>\n",
      "      </li>\n",
      "      <li>\n",
      "       <a href=\"/wiki/List_of_trademarked_open-source_software\" title=\"List of trademarked open-source software\">\n",
      "        Trademarked\n",
      "       </a>\n",
      "      </li>\n",
      "      <li>\n",
      "       <a href=\"/wiki/List_of_formerly_proprietary_software\" title=\"List of formerly proprietary software\">\n",
      "        Formerly proprietary\n",
      "       </a>\n",
      "      </li>\n",
      "     </ul>\n",
      "    </div>\n",
      "   </td>\n",
      "  </tr>\n",
      "  <tr>\n",
      "   <th class=\"navbox-group\" scope=\"row\" style=\"width:1%\">\n",
      "    <a href=\"/wiki/Community_of_practice\" title=\"Community of practice\">\n",
      "     Community\n",
      "    </a>\n",
      "   </th>\n",
      "   <td class=\"navbox-list navbox-odd\" style=\"text-align:left;border-left-width:2px;border-left-style:solid;width:100%;padding:0px\">\n",
      "    <div style=\"padding:0em 0.25em\">\n",
      "     <ul>\n",
      "      <li>\n",
      "       <a href=\"/wiki/Free_software_movement\" title=\"Free software movement\">\n",
      "        Free software movement\n",
      "       </a>\n",
      "      </li>\n",
      "      <li>\n",
      "       <a href=\"/wiki/History_of_free_and_open-source_software\" title=\"History of free and open-source software\">\n",
      "        History\n",
      "       </a>\n",
      "      </li>\n",
      "      <li>\n",
      "       <a href=\"/wiki/Open-source-software_movement\" title=\"Open-source-software movement\">\n",
      "        Open-source-software movement\n",
      "       </a>\n",
      "      </li>\n",
      "      <li>\n",
      "       <a href=\"/wiki/List_of_free_and_open-source_software_organizations\" title=\"List of free and open-source software organizations\">\n",
      "        Organizations\n",
      "       </a>\n",
      "      </li>\n",
      "      <li>\n",
      "       <a href=\"/wiki/List_of_free-software_events\" title=\"List of free-software events\">\n",
      "        Events\n",
      "       </a>\n",
      "      </li>\n",
      "     </ul>\n",
      "    </div>\n",
      "   </td>\n",
      "  </tr>\n",
      "  <tr>\n",
      "   <th class=\"navbox-group\" scope=\"row\" style=\"width:1%\">\n",
      "    <a href=\"/wiki/Free_software_license\" title=\"Free software license\">\n",
      "     Licenses\n",
      "    </a>\n",
      "   </th>\n",
      "   <td class=\"navbox-list navbox-even\" style=\"text-align:left;border-left-width:2px;border-left-style:solid;width:100%;padding:0px\">\n",
      "    <div style=\"padding:0em 0.25em\">\n",
      "     <ul>\n",
      "      <li>\n",
      "       <a href=\"/wiki/Academic_Free_License\" title=\"Academic Free License\">\n",
      "        AFL\n",
      "       </a>\n",
      "      </li>\n",
      "      <li>\n",
      "       <a href=\"/wiki/Apache_License\" title=\"Apache License\">\n",
      "        Apache\n",
      "       </a>\n",
      "      </li>\n",
      "      <li>\n",
      "       <a href=\"/wiki/Apple_Public_Source_License\" title=\"Apple Public Source License\">\n",
      "        APSL\n",
      "       </a>\n",
      "      </li>\n",
      "      <li>\n",
      "       <a href=\"/wiki/Artistic_License\" title=\"Artistic License\">\n",
      "        Artistic\n",
      "       </a>\n",
      "      </li>\n",
      "      <li>\n",
      "       <a href=\"/wiki/Beerware\" title=\"Beerware\">\n",
      "        Beerware\n",
      "       </a>\n",
      "      </li>\n",
      "      <li>\n",
      "       <a class=\"mw-redirect\" href=\"/wiki/Boost_Software_License\" title=\"Boost Software License\">\n",
      "        Boost\n",
      "       </a>\n",
      "      </li>\n",
      "      <li>\n",
      "       <a href=\"/wiki/BSD_licenses\" title=\"BSD licenses\">\n",
      "        BSD\n",
      "       </a>\n",
      "      </li>\n",
      "      <li>\n",
      "       <a href=\"/wiki/Creative_Commons_license#Zero_/_public_domain\" title=\"Creative Commons license\">\n",
      "        CC0\n",
      "       </a>\n",
      "      </li>\n",
      "      <li>\n",
      "       <a href=\"/wiki/Common_Development_and_Distribution_License\" title=\"Common Development and Distribution License\">\n",
      "        CDDL\n",
      "       </a>\n",
      "      </li>\n",
      "      <li>\n",
      "       <a href=\"/wiki/Eclipse_Public_License\" title=\"Eclipse Public License\">\n",
      "        EPL\n",
      "       </a>\n",
      "      </li>\n",
      "      <li>\n",
      "       <a href=\"/wiki/Free_Software_Foundation\" title=\"Free Software Foundation\">\n",
      "        Free Software Foundation\n",
      "       </a>\n",
      "       <ul>\n",
      "        <li>\n",
      "         <a href=\"/wiki/GNU_General_Public_License\" title=\"GNU General Public License\">\n",
      "          GNU GPL\n",
      "         </a>\n",
      "        </li>\n",
      "        <li>\n",
      "         <a href=\"/wiki/GNU_Lesser_General_Public_License\" title=\"GNU Lesser General Public License\">\n",
      "          GNU LGPL\n",
      "         </a>\n",
      "        </li>\n",
      "       </ul>\n",
      "      </li>\n",
      "      <li>\n",
      "       <a href=\"/wiki/ISC_license\" title=\"ISC license\">\n",
      "        ISC\n",
      "       </a>\n",
      "      </li>\n",
      "      <li>\n",
      "       <a href=\"/wiki/MIT_License\" title=\"MIT License\">\n",
      "        MIT\n",
      "       </a>\n",
      "      </li>\n",
      "      <li>\n",
      "       <a href=\"/wiki/Mozilla_Public_License\" title=\"Mozilla Public License\">\n",
      "        MPL\n",
      "       </a>\n",
      "      </li>\n",
      "      <li>\n",
      "       <a class=\"mw-redirect\" href=\"/wiki/Microsoft_Public_License\" title=\"Microsoft Public License\">\n",
      "        Ms-PL\n",
      "       </a>\n",
      "       /\n",
      "       <a class=\"mw-redirect\" href=\"/wiki/Microsoft_Reciprocal_License\" title=\"Microsoft Reciprocal License\">\n",
      "        RL\n",
      "       </a>\n",
      "      </li>\n",
      "      <li>\n",
      "       <a href=\"/wiki/Python_License\" title=\"Python License\">\n",
      "        Python\n",
      "       </a>\n",
      "      </li>\n",
      "      <li>\n",
      "       <a href=\"/wiki/Python_Software_Foundation_License\" title=\"Python Software Foundation License\">\n",
      "        Python Software Foundation License\n",
      "       </a>\n",
      "      </li>\n",
      "      <li>\n",
      "       <a href=\"/wiki/Sleepycat_License\" title=\"Sleepycat License\">\n",
      "        Sleepycat\n",
      "       </a>\n",
      "      </li>\n",
      "      <li>\n",
      "       <a href=\"/wiki/Unlicense\" title=\"Unlicense\">\n",
      "        Unlicense\n",
      "       </a>\n",
      "      </li>\n",
      "      <li>\n",
      "       <a href=\"/wiki/WTFPL\" title=\"WTFPL\">\n",
      "        WTFPL\n",
      "       </a>\n",
      "      </li>\n",
      "      <li>\n",
      "       <a href=\"/wiki/Zlib_License\" title=\"Zlib License\">\n",
      "        zlib\n",
      "       </a>\n",
      "      </li>\n",
      "     </ul>\n",
      "    </div>\n",
      "    <table class=\"nowraplinks navbox-subgroup\" style=\"border-spacing:0\">\n",
      "     <tbody>\n",
      "      <tr>\n",
      "       <th class=\"navbox-group\" id=\"Types_and_standards\" scope=\"row\" style=\"width:1%\">\n",
      "        Types and\n",
      "        <br/>\n",
      "        standards\n",
      "       </th>\n",
      "       <td class=\"navbox-list navbox-odd\" style=\"text-align:left;border-left-width:2px;border-left-style:solid;width:100%;padding:0px\">\n",
      "        <div style=\"padding:0em 0.25em\">\n",
      "         <ul>\n",
      "          <li>\n",
      "           <a href=\"/wiki/Comparison_of_free_and_open-source_software_licenses\" title=\"Comparison of free and open-source software licenses\">\n",
      "            Comparison of free and open-source software licenses\n",
      "           </a>\n",
      "          </li>\n",
      "          <li>\n",
      "           <a href=\"/wiki/Contributor_License_Agreement\" title=\"Contributor License Agreement\">\n",
      "            Contributor License Agreement\n",
      "           </a>\n",
      "          </li>\n",
      "          <li>\n",
      "           <a href=\"/wiki/Copyleft\" title=\"Copyleft\">\n",
      "            Copyleft\n",
      "           </a>\n",
      "          </li>\n",
      "          <li>\n",
      "           <a href=\"/wiki/Debian_Free_Software_Guidelines\" title=\"Debian Free Software Guidelines\">\n",
      "            Debian Free Software Guidelines\n",
      "           </a>\n",
      "          </li>\n",
      "          <li>\n",
      "           <a href=\"/wiki/Definition_of_Free_Cultural_Works\" title=\"Definition of Free Cultural Works\">\n",
      "            Definition of Free Cultural Works\n",
      "           </a>\n",
      "          </li>\n",
      "          <li>\n",
      "           <a href=\"/wiki/Free_license\" title=\"Free license\">\n",
      "            Free license\n",
      "           </a>\n",
      "          </li>\n",
      "          <li>\n",
      "           <a href=\"/wiki/The_Free_Software_Definition\" title=\"The Free Software Definition\">\n",
      "            The Free Software Definition\n",
      "           </a>\n",
      "          </li>\n",
      "          <li>\n",
      "           <a href=\"/wiki/The_Open_Source_Definition\" title=\"The Open Source Definition\">\n",
      "            The Open Source Definition\n",
      "           </a>\n",
      "          </li>\n",
      "          <li>\n",
      "           <a href=\"/wiki/Open-source_license\" title=\"Open-source license\">\n",
      "            Open-source license\n",
      "           </a>\n",
      "          </li>\n",
      "          <li>\n",
      "           <a href=\"/wiki/Permissive_software_license\" title=\"Permissive software license\">\n",
      "            Permissive software license\n",
      "           </a>\n",
      "          </li>\n",
      "          <li>\n",
      "           <a href=\"/wiki/Public_domain\" title=\"Public domain\">\n",
      "            Public domain\n",
      "           </a>\n",
      "          </li>\n",
      "          <li>\n",
      "           <a href=\"/wiki/Viral_license\" title=\"Viral license\">\n",
      "            Viral license\n",
      "           </a>\n",
      "          </li>\n",
      "         </ul>\n",
      "        </div>\n",
      "       </td>\n",
      "      </tr>\n",
      "     </tbody>\n",
      "    </table>\n",
      "    <div>\n",
      "    </div>\n",
      "   </td>\n",
      "  </tr>\n",
      "  <tr>\n",
      "   <th class=\"navbox-group\" scope=\"row\" style=\"width:1%\">\n",
      "    Challenges\n",
      "   </th>\n",
      "   <td class=\"navbox-list navbox-even\" style=\"text-align:left;border-left-width:2px;border-left-style:solid;width:100%;padding:0px\">\n",
      "    <div style=\"padding:0em 0.25em\">\n",
      "     <ul>\n",
      "      <li>\n",
      "       <a href=\"/wiki/Digital_rights_management\" title=\"Digital rights management\">\n",
      "        Digital rights management\n",
      "       </a>\n",
      "      </li>\n",
      "      <li>\n",
      "       <a href=\"/wiki/Firmware#Security_risks\" title=\"Firmware\">\n",
      "        Firmware security\n",
      "       </a>\n",
      "      </li>\n",
      "      <li>\n",
      "       <a href=\"/wiki/Hardware_restriction\" title=\"Hardware restriction\">\n",
      "        Hardware restrictions\n",
      "       </a>\n",
      "      </li>\n",
      "      <li>\n",
      "       <a href=\"/wiki/License_proliferation\" title=\"License proliferation\">\n",
      "        License proliferation\n",
      "       </a>\n",
      "      </li>\n",
      "      <li>\n",
      "       <a href=\"/wiki/Mozilla_software_rebranded_by_Debian\" title=\"Mozilla software rebranded by Debian\">\n",
      "        Mozilla software rebranding\n",
      "       </a>\n",
      "      </li>\n",
      "      <li>\n",
      "       <a href=\"/wiki/Proprietary_device_driver\" title=\"Proprietary device driver\">\n",
      "        Proprietary device drivers\n",
      "       </a>\n",
      "      </li>\n",
      "      <li>\n",
      "       <a href=\"/wiki/Proprietary_firmware\" title=\"Proprietary firmware\">\n",
      "        Proprietary firmware\n",
      "       </a>\n",
      "      </li>\n",
      "      <li>\n",
      "       <a href=\"/wiki/Proprietary_software\" title=\"Proprietary software\">\n",
      "        Proprietary software\n",
      "       </a>\n",
      "      </li>\n",
      "      <li>\n",
      "       <a href=\"/wiki/SCO%E2%80%93Linux_disputes\" title=\"SCO–Linux disputes\">\n",
      "        SCO/Linux controversies\n",
      "       </a>\n",
      "      </li>\n",
      "      <li>\n",
      "       <a href=\"/wiki/Unified_Extensible_Firmware_Interface#Secure_boot\" title=\"Unified Extensible Firmware Interface\">\n",
      "        Secure boot\n",
      "       </a>\n",
      "      </li>\n",
      "      <li>\n",
      "       <a href=\"/wiki/Software_patents_and_free_software\" title=\"Software patents and free software\">\n",
      "        Software patents\n",
      "       </a>\n",
      "      </li>\n",
      "      <li>\n",
      "       <a href=\"/wiki/Open-source_software_security\" title=\"Open-source software security\">\n",
      "        Software security\n",
      "       </a>\n",
      "      </li>\n",
      "      <li>\n",
      "       <a href=\"/wiki/Trusted_Computing\" title=\"Trusted Computing\">\n",
      "        Trusted Computing\n",
      "       </a>\n",
      "      </li>\n",
      "     </ul>\n",
      "    </div>\n",
      "   </td>\n",
      "  </tr>\n",
      "  <tr>\n",
      "   <th class=\"navbox-group\" scope=\"row\" style=\"width:1%\">\n",
      "    Related topics\n",
      "   </th>\n",
      "   <td class=\"navbox-list navbox-odd\" style=\"text-align:left;border-left-width:2px;border-left-style:solid;width:100%;padding:0px\">\n",
      "    <div style=\"padding:0em 0.25em\">\n",
      "     <ul>\n",
      "      <li>\n",
      "       <a href=\"/wiki/Fork_(software_development)\" title=\"Fork (software development)\">\n",
      "        Forking\n",
      "       </a>\n",
      "      </li>\n",
      "      <li>\n",
      "       <i>\n",
      "        <a href=\"/wiki/GNU_Manifesto\" title=\"GNU Manifesto\">\n",
      "         GNU Manifesto\n",
      "        </a>\n",
      "       </i>\n",
      "      </li>\n",
      "      <li>\n",
      "       <a href=\"/wiki/Microsoft_Open_Specification_Promise\" title=\"Microsoft Open Specification Promise\">\n",
      "        Microsoft Open Specification Promise\n",
      "       </a>\n",
      "      </li>\n",
      "      <li>\n",
      "       <a href=\"/wiki/Open-core_model\" title=\"Open-core model\">\n",
      "        Open-core model\n",
      "       </a>\n",
      "      </li>\n",
      "      <li>\n",
      "       <a href=\"/wiki/Open-source_hardware\" title=\"Open-source hardware\">\n",
      "        Open-source hardware\n",
      "       </a>\n",
      "      </li>\n",
      "      <li>\n",
      "       <a href=\"/wiki/Shared_Source_Initiative\" title=\"Shared Source Initiative\">\n",
      "        Shared Source Initiative\n",
      "       </a>\n",
      "      </li>\n",
      "      <li>\n",
      "       <a href=\"/wiki/Source-available_software\" title=\"Source-available software\">\n",
      "        Source-available software\n",
      "       </a>\n",
      "      </li>\n",
      "      <li>\n",
      "       <i>\n",
      "        <a href=\"/wiki/The_Cathedral_and_the_Bazaar\" title=\"The Cathedral and the Bazaar\">\n",
      "         The Cathedral and the Bazaar\n",
      "        </a>\n",
      "       </i>\n",
      "      </li>\n",
      "      <li>\n",
      "       <i>\n",
      "        <a href=\"/wiki/Revolution_OS\" title=\"Revolution OS\">\n",
      "         Revolution OS\n",
      "        </a>\n",
      "       </i>\n",
      "      </li>\n",
      "     </ul>\n",
      "    </div>\n",
      "   </td>\n",
      "  </tr>\n",
      "  <tr>\n",
      "   <td class=\"navbox-abovebelow\" colspan=\"2\" style=\"font-weight:bold\">\n",
      "    <div>\n",
      "     <ul>\n",
      "      <li>\n",
      "       <a class=\"image\" href=\"/wiki/File:Free_and_open-source_software_logo_(2009).svg\">\n",
      "        <img alt=\"Free and open-source software logo (2009).svg\" class=\"noviewer\" data-file-height=\"512\" data-file-width=\"512\" decoding=\"async\" height=\"28\" src=\"//upload.wikimedia.org/wikipedia/commons/thumb/3/31/Free_and_open-source_software_logo_%282009%29.svg/28px-Free_and_open-source_software_logo_%282009%29.svg.png\" srcset=\"//upload.wikimedia.org/wikipedia/commons/thumb/3/31/Free_and_open-source_software_logo_%282009%29.svg/42px-Free_and_open-source_software_logo_%282009%29.svg.png 1.5x, //upload.wikimedia.org/wikipedia/commons/thumb/3/31/Free_and_open-source_software_logo_%282009%29.svg/56px-Free_and_open-source_software_logo_%282009%29.svg.png 2x\" width=\"28\"/>\n",
      "       </a>\n",
      "       <a href=\"/wiki/Portal:Free_and_open-source_software\" title=\"Portal:Free and open-source software\">\n",
      "        Free and open-source software portal\n",
      "       </a>\n",
      "      </li>\n",
      "      <li>\n",
      "       <img alt=\"Category\" data-file-height=\"31\" data-file-width=\"36\" decoding=\"async\" height=\"14\" src=\"//upload.wikimedia.org/wikipedia/en/thumb/4/48/Folder_Hexagonal_Icon.svg/16px-Folder_Hexagonal_Icon.svg.png\" srcset=\"//upload.wikimedia.org/wikipedia/en/thumb/4/48/Folder_Hexagonal_Icon.svg/24px-Folder_Hexagonal_Icon.svg.png 1.5x, //upload.wikimedia.org/wikipedia/en/thumb/4/48/Folder_Hexagonal_Icon.svg/32px-Folder_Hexagonal_Icon.svg.png 2x\" title=\"Category\" width=\"16\"/>\n",
      "       <a href=\"/wiki/Category:Free_software\" title=\"Category:Free software\">\n",
      "        Category\n",
      "       </a>\n",
      "      </li>\n",
      "      <li>\n",
      "       <img alt=\"Commons page\" data-file-height=\"1376\" data-file-width=\"1024\" decoding=\"async\" height=\"16\" src=\"//upload.wikimedia.org/wikipedia/en/thumb/4/4a/Commons-logo.svg/12px-Commons-logo.svg.png\" srcset=\"//upload.wikimedia.org/wikipedia/en/thumb/4/4a/Commons-logo.svg/18px-Commons-logo.svg.png 1.5x, //upload.wikimedia.org/wikipedia/en/thumb/4/4a/Commons-logo.svg/24px-Commons-logo.svg.png 2x\" title=\"Commons page\" width=\"12\"/>\n",
      "       <a class=\"extiw\" href=\"https://commons.wikimedia.org/wiki/Category:Free_software\" title=\"commons:Category:Free software\">\n",
      "        Commons\n",
      "       </a>\n",
      "      </li>\n",
      "      <li>\n",
      "       <img alt=\"WikiProject\" data-file-height=\"100\" data-file-width=\"100\" decoding=\"async\" height=\"16\" src=\"//upload.wikimedia.org/wikipedia/commons/thumb/3/37/People_icon.svg/16px-People_icon.svg.png\" srcset=\"//upload.wikimedia.org/wikipedia/commons/thumb/3/37/People_icon.svg/24px-People_icon.svg.png 1.5x, //upload.wikimedia.org/wikipedia/commons/thumb/3/37/People_icon.svg/32px-People_icon.svg.png 2x\" title=\"WikiProject\" width=\"16\"/>\n",
      "       <a href=\"/wiki/Wikipedia:WikiProject_Software/Free_and_open-source_software_task_force\" title=\"Wikipedia:WikiProject Software/Free and open-source software task force\">\n",
      "        WikiProject\n",
      "       </a>\n",
      "      </li>\n",
      "      <li>\n",
      "       <img alt=\"Wikipedia book\" data-file-height=\"185\" data-file-width=\"180\" decoding=\"async\" height=\"16\" src=\"//upload.wikimedia.org/wikipedia/commons/thumb/8/89/Symbol_book_class2.svg/16px-Symbol_book_class2.svg.png\" srcset=\"//upload.wikimedia.org/wikipedia/commons/thumb/8/89/Symbol_book_class2.svg/23px-Symbol_book_class2.svg.png 1.5x, //upload.wikimedia.org/wikipedia/commons/thumb/8/89/Symbol_book_class2.svg/31px-Symbol_book_class2.svg.png 2x\" title=\"Wikipedia book\" width=\"16\"/>\n",
      "       <a href=\"/wiki/Book:Free_and_Open_Source_Software\" title=\"Book:Free and Open Source Software\">\n",
      "        Book\n",
      "       </a>\n",
      "      </li>\n",
      "     </ul>\n",
      "    </div>\n",
      "   </td>\n",
      "  </tr>\n",
      " </tbody>\n",
      "</table>\n"
     ]
    }
   ],
   "source": [
    "my_table = soup.find_all('table')[5]\n",
    "print(my_table.prettify())\n"
   ]
  },
  {
   "cell_type": "code",
   "execution_count": 104,
   "metadata": {},
   "outputs": [
    {
     "data": {
      "text/plain": [
       "<a href=\"/wiki/Template:FOSS\" title=\"Template:FOSS\"><abbr style=\";;background:none transparent;border:none;-moz-box-shadow:none;-webkit-box-shadow:none;box-shadow:none; padding:0;\" title=\"View this template\">v</abbr></a>"
      ]
     },
     "metadata": {},
     "output_type": "display_data"
    },
    {
     "data": {
      "text/plain": [
       "'/wiki/Template:FOSS'"
      ]
     },
     "metadata": {},
     "output_type": "display_data"
    },
    {
     "data": {
      "text/plain": [
       "<a href=\"/wiki/Template:FOSS\" style=\"my new style\" title=\"Template:FOSS\"><abbr style=\";;background:none transparent;border:none;-moz-box-shadow:none;-webkit-box-shadow:none;box-shadow:none; padding:0;\" title=\"View this template\">v</abbr></a>"
      ]
     },
     "execution_count": 104,
     "metadata": {},
     "output_type": "execute_result"
    }
   ],
   "source": [
    "# grab tha a tag\n",
    "a_tag = my_table.a\n",
    "\n",
    "display(a_tag)\n",
    "display(a_tag['href'])\n",
    "\n",
    "a_tag['style'] = \"my new style\"\n",
    "\n",
    "a_tag"
   ]
  },
  {
   "cell_type": "code",
   "execution_count": 105,
   "metadata": {},
   "outputs": [
    {
     "data": {
      "text/plain": [
       "<a href=\"/wiki/Template:FOSS\" style=\"my new style\" title=\"Template:FOSS\"></a>"
      ]
     },
     "metadata": {},
     "output_type": "display_data"
    }
   ],
   "source": [
    "# grab tha a tag\n",
    "tag = my_table.a\n",
    "\n",
    "# remove the string attached to the a tag\n",
    "tag.clear()\n",
    "\n",
    "display(tag)\n"
   ]
  },
  {
   "cell_type": "code",
   "execution_count": 112,
   "metadata": {},
   "outputs": [
    {
     "data": {
      "text/plain": [
       "<th class=\"navbox-group\" scope=\"row\" style=\"width:1%\"><a href=\"/wiki/List_of_free_and_open-source_software_packages\" title=\"List of free and open-source software packages\">Software<br/>packages</a></th>"
      ]
     },
     "metadata": {},
     "output_type": "display_data"
    }
   ],
   "source": [
    "# grab a table body \n",
    "# display(my_table.tbody)\n",
    "\n",
    "# extract the first table header\n",
    "th_tag = my_table.tbody.th.extract()\n",
    "\n",
    "display(th_tag)"
   ]
  },
  {
   "cell_type": "code",
   "execution_count": 118,
   "metadata": {},
   "outputs": [
    {
     "data": {
      "text/plain": [
       "'Community'"
      ]
     },
     "metadata": {},
     "output_type": "display_data"
    },
    {
     "name": "stdout",
     "output_type": "stream",
     "text": [
      "\n",
      "\n",
      "Alternative terms for free software\n",
      "\n",
      "\n",
      "Comparison of open-source and closed-source software\n",
      "\n",
      "\n",
      "Comparison of source-code-hosting facilities\n",
      "\n",
      "\n",
      "Free software\n",
      "\n",
      "\n",
      "Free software project directories\n",
      "----------------------------------------\n",
      "Alternative terms for free software\n",
      "Comparison of open-source and closed-source software\n",
      "Comparison of source-code-hosting facilities\n",
      "Free software\n",
      "Free software project directories\n",
      "Gratis versus libre\n",
      "Long-term support\n",
      "Open-source software\n",
      "Open-source software development\n",
      "Outline\n"
     ]
    }
   ],
   "source": [
    "# grab the first string find in the table header tag\n",
    "display(my_table.th.string)\n",
    "\n",
    "# get all string that belong to the table body \n",
    "for string in list(my_table.tbody.strings)[0:10]:\n",
    "    print(string)\n",
    "    \n",
    "print('-'* 40)\n",
    "\n",
    "\n",
    "# get all string that belong to the table body \n",
    "for string in list(my_table.tbody.stripped_strings)[0:10]:\n",
    "    print(string)"
   ]
  },
  {
   "cell_type": "code",
   "execution_count": null,
   "metadata": {},
   "outputs": [],
   "source": []
  }
 ],
 "metadata": {
  "kernelspec": {
   "display_name": "Python 3",
   "language": "python",
   "name": "python3"
  },
  "language_info": {
   "codemirror_mode": {
    "name": "ipython",
    "version": 3
   },
   "file_extension": ".py",
   "mimetype": "text/x-python",
   "name": "python",
   "nbconvert_exporter": "python",
   "pygments_lexer": "ipython3",
   "version": "3.7.3"
  }
 },
 "nbformat": 4,
 "nbformat_minor": 2
}
